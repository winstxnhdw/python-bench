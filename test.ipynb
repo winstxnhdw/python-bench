{
 "cells": [
  {
   "cell_type": "code",
   "execution_count": 10,
   "source": [
    "import pandas as pd\n",
    "import numpy as np\n",
    "import math as m"
   ],
   "outputs": [],
   "metadata": {}
  },
  {
   "cell_type": "code",
   "execution_count": 11,
   "source": [
    "dir_path = 'data/waypoints.csv'\n",
    "df = pd.read_csv(dir_path)\n",
    "wx = df['y'].values.tolist()\n",
    "wy = df['x'].values.tolist()\n",
    "wx = wx[20:50]\n",
    "wy = wy[20:50]"
   ],
   "outputs": [],
   "metadata": {}
  },
  {
   "cell_type": "markdown",
   "source": [
    "# Vectorisation"
   ],
   "metadata": {}
  },
  {
   "cell_type": "code",
   "execution_count": 12,
   "source": [
    "%%capture\n",
    "\n",
    "def solve_1st_derivative(x, y):\n",
    "\n",
    "    dx = np.ediff1d(x)\n",
    "    dy = np.ediff1d(y)\n",
    "\n",
    "    dx = np.append(dx, dx[0])\n",
    "    dy = np.append(dy, dy[0])\n",
    "\n",
    "    return dx, dy\n",
    "\n",
    "def calculate_yaw_vectorised(x, y):\n",
    "\n",
    "    dx, dy = solve_1st_derivative(x, y)\n",
    "        \n",
    "    return np.arctan2(dy, dx)\n",
    "\n",
    "def calculate_yaw_optimised(x, y):\n",
    "\n",
    "    dx, dy = solve_1st_derivative(x, y)\n",
    "\n",
    "    yaw = []\n",
    "\n",
    "    yaw.append(m.atan2(dy[0], dx[0]))\n",
    "\n",
    "    for i in range(1, len(x) - 1):\n",
    "        d0 = np.array([dx[i], dy[i]])\n",
    "        d0_hat = d0/np.linalg.norm(d0)\n",
    "\n",
    "        d1 = np.array([dx[i-1], dy[i-1]])\n",
    "        d1_hat = d1/np.linalg.norm(d1)\n",
    "\n",
    "        d_bisect = d0_hat + d1_hat\n",
    "        \n",
    "        yaw.append(m.atan2(d_bisect[1], d_bisect[0]))\n",
    "\n",
    "    yaw.append(m.atan2(dy[-1], dx[-1]))\n",
    "        \n",
    "    return yaw\n",
    "\n",
    "def calculate_yaw(x, y):\n",
    "\n",
    "    dx, dy = solve_1st_derivative(x, y)\n",
    "\n",
    "    yaw = []\n",
    "\n",
    "    for i in range(0, len(x)):\n",
    "        yaw.append(np.arctan2(dy[i], dx[i]))\n",
    "\n",
    "    return yaw\n",
    "\n",
    "t_vectorised = %timeit -o calculate_yaw_vectorised(wx, wy)\n",
    "t_optimised = %timeit -o calculate_yaw_optimised(wx, wy)\n",
    "t_default = %timeit -o calculate_yaw(wx, wy)"
   ],
   "outputs": [],
   "metadata": {}
  },
  {
   "cell_type": "code",
   "execution_count": 13,
   "source": [
    "print(\"\\nVectorised test:\\n{}\".format(t_vectorised))\n",
    "print(\"\\n'Optimised' test:\\n{}\".format(t_optimised))\n",
    "print(\"\\nDefault test:\\n{}\".format(t_default))"
   ],
   "outputs": [
    {
     "output_type": "stream",
     "name": "stdout",
     "text": [
      "\n",
      "Vectorised test:\n",
      "19 µs ± 319 ns per loop (mean ± std. dev. of 7 runs, 100000 loops each)\n",
      "\n",
      "'Optimised' test:\n",
      "388 µs ± 24.2 µs per loop (mean ± std. dev. of 7 runs, 1000 loops each)\n",
      "\n",
      "Default test:\n",
      "66.5 µs ± 1.25 µs per loop (mean ± std. dev. of 7 runs, 10000 loops each)\n"
     ]
    }
   ],
   "metadata": {}
  },
  {
   "cell_type": "markdown",
   "source": [
    "# Exponents"
   ],
   "metadata": {}
  },
  {
   "cell_type": "code",
   "execution_count": 14,
   "source": [
    "%%capture\n",
    "\n",
    "def nat_pow(a, exp):\n",
    "\n",
    "    for i in range(0, exp):\n",
    "        a *= a\n",
    "\n",
    "    return a\n",
    "\n",
    "a = 7.6\n",
    "exp = 3\n",
    "t_manual = %timeit -o a*a\n",
    "t_numpy = %timeit -o np.power(a, exp)\n",
    "t_math = %timeit -o m.pow(a, exp)\n",
    "t_optimised = %timeit -o nat_pow(a, exp)\n",
    "t_standard = %timeit -o pow(a, exp)\n",
    "t_default = %timeit -o a**exp"
   ],
   "outputs": [],
   "metadata": {}
  },
  {
   "cell_type": "code",
   "execution_count": 15,
   "source": [
    "print(\"\\nManual test:\\n{}\".format(t_manual))\n",
    "print(\"\\nNumpy test:\\n{}\".format(t_numpy))\n",
    "print(\"\\nMath test:\\n{}\".format(t_math))\n",
    "print(\"\\n'Optimised' test:\\n{}\".format(t_optimised))\n",
    "print(\"\\nStandard test:\\n{}\".format(t_standard))\n",
    "print(\"\\nDefault test:\\n{}\".format(t_default))"
   ],
   "outputs": [
    {
     "output_type": "stream",
     "name": "stdout",
     "text": [
      "\n",
      "Manual test:\n",
      "28.8 ns ± 0.442 ns per loop (mean ± std. dev. of 7 runs, 10000000 loops each)\n",
      "\n",
      "Numpy test:\n",
      "1.22 µs ± 11.7 ns per loop (mean ± std. dev. of 7 runs, 1000000 loops each)\n",
      "\n",
      "Math test:\n",
      "97.4 ns ± 1.36 ns per loop (mean ± std. dev. of 7 runs, 10000000 loops each)\n",
      "\n",
      "'Optimised' test:\n",
      "228 ns ± 4.99 ns per loop (mean ± std. dev. of 7 runs, 1000000 loops each)\n",
      "\n",
      "Standard test:\n",
      "82.3 ns ± 1.36 ns per loop (mean ± std. dev. of 7 runs, 10000000 loops each)\n",
      "\n",
      "Default test:\n",
      "61.2 ns ± 0.409 ns per loop (mean ± std. dev. of 7 runs, 10000000 loops each)\n"
     ]
    }
   ],
   "metadata": {}
  },
  {
   "cell_type": "markdown",
   "source": [
    "# Calculating Path Curvature"
   ],
   "metadata": {}
  },
  {
   "cell_type": "code",
   "execution_count": 16,
   "source": [
    "%%capture\n",
    "\n",
    "from libs.cubic_spline_interpolator import calculate_spline_curvature, generate_cubic_path\n",
    "\n",
    "def calculate_curvature_vector(wx, wy):\n",
    "\n",
    "    x, y = generate_cubic_path(wx, wy, 0.1)\n",
    "    dp = solve_1st_derivative(x, y)\n",
    "    delta_s = np.hypot(dp[0], dp[1])\n",
    "    u_i = dp / delta_s\n",
    "\n",
    "    du = solve_1st_derivative(u_i[0], u_i[1])\n",
    "    abs_du = np.hypot(du[0], du[1])\n",
    "    k_i = abs_du / delta_s\n",
    "\n",
    "    return k_i\n",
    "\n",
    "def calculate_curvature(wx, wy):\n",
    "\n",
    "    x, y = generate_cubic_path(wx, wy, 0.1)\n",
    "    dx, dy = solve_1st_derivative(x, y)\n",
    "    ddx, ddy = solve_1st_derivative(dx, dy)\n",
    "\n",
    "    return (ddy*dx - ddx*dy) / ((dx*dx + dy*dy)**(3/2))\n",
    "\n",
    "\n",
    "t_vector = %timeit -o calculate_curvature_vector(wx, wy)\n",
    "k_vector = list(calculate_curvature_vector(wx, wy))[:30]\n",
    "\n",
    "t_spline = %timeit -o calculate_spline_curvature(wx, wy, 0.1)\n",
    "k_spline = list(calculate_spline_curvature(wx, wy, 0.1))[:30]\n",
    "\n",
    "t_default = %timeit -o calculate_curvature(wx, wy)\n",
    "k_default = list(calculate_curvature(wx, wy))[:30]"
   ],
   "outputs": [],
   "metadata": {}
  },
  {
   "cell_type": "code",
   "execution_count": 17,
   "source": [
    "print(\"\\nVector test:\\n{} \\n{}\".format(t_vector, k_vector))\n",
    "print(\"\\nSpline test:\\n{} \\n{}\".format(t_spline, k_spline))\n",
    "print(\"\\nDefault test:\\n{} \\n{}\".format(t_default, k_default))"
   ],
   "outputs": [
    {
     "output_type": "stream",
     "name": "stdout",
     "text": [
      "\n",
      "Vector test:\n",
      "4.5 ms ± 23.1 µs per loop (mean ± std. dev. of 7 runs, 100 loops each) \n",
      "[0.0071794594466529195, 0.014371994374315682, 0.02159222183660794, 0.02885455210393894, 0.03617306962996375, 0.04356140358782242, 0.051032584220446806, 0.05859888145617443, 0.06627162217067649, 0.0740609827063314, 0.08197575349652425, 0.09002307307734701, 0.09820812928166156, 0.10653382647688614, 0.11500041866865367, 0.12360511011479197, 0.13234162690684484, 0.1411997657250691, 0.15016492890792035, 0.1592176586500857, 0.1683331872715193, 0.17748102486675127, 0.18662461041236192, 0.19572105663850892, 0.20472102308176826, 0.21356875410376006, 0.22220231987258038, 0.22953208163330524, 0.22674894103707435, 0.21825502826466547]\n",
      "\n",
      "Spline test:\n",
      "7.77 ms ± 229 µs per loop (mean ± std. dev. of 7 runs, 100 loops each) \n",
      "[-1.037259719017142e-16, 0.007179460134010003, 0.01437363303432191, 0.021597122355828228, 0.028864309868369735, 0.036189235354098834, 0.04358546550513043, 0.05106594815776471, 0.05864284823360333, 0.06632736184122506, 0.07412950515381349, 0.08205787495466292, 0.09011937817797741, 0.09831892841865345, 0.10665910830055914, 0.1151397978420971, 0.1237577706062772, 0.13250626153231723, 0.1413745129677447, 0.1503473085826773, 0.15940450854373664, 0.16852060349292375, 0.17766430938317507, 0.18679822984136676, 0.19587861712583787, 0.20485526646376068, 0.21367158102072314, 0.22226484530068266, 0.23056674267853103, 0.22676017772821142]\n",
      "\n",
      "Default test:\n",
      "4.69 ms ± 186 µs per loop (mean ± std. dev. of 7 runs, 100 loops each) \n",
      "[0.007177823174940971, 0.014365463295483785, 0.021577580571132973, 0.028828659246152084, 0.03613289105524944, 0.04350404929666192, 0.050955349762388434, 0.05849929496170193, 0.06614749798621022, 0.07391048256766511, 0.08179745607704472, 0.0898160525941101, 0.09797204362180764, 0.10626901499415475, 0.1147080093841126, 0.12328713550703205, 0.13200114678857777, 0.14084099485089327, 0.14979336594613635, 0.1588402119831941, 0.16795829179190128, 0.1771187425633908, 0.18628670617290466, 0.1954210394495773, 0.20447414184065513, 0.21339193675922122, 0.222114044794641, 0.2295511394316372, 0.22687360702482492, 0.21846301942841467]\n"
     ]
    }
   ],
   "metadata": {}
  }
 ],
 "metadata": {
  "orig_nbformat": 4,
  "language_info": {
   "mimetype": "text/x-python",
   "nbconvert_exporter": "python",
   "name": "python",
   "pygments_lexer": "ipython3",
   "version": "3.9.5",
   "file_extension": ".py",
   "codemirror_mode": {
    "version": 3,
    "name": "ipython"
   }
  },
  "kernelspec": {
   "name": "python3",
   "display_name": "Python 3.9.5 64-bit ('optimizer': conda)"
  },
  "interpreter": {
   "hash": "57f26ffe740c5f0d472a9f25ed66cf4abb3f98049bb3b97f17b3f14c481ed229"
  }
 },
 "nbformat": 4,
 "nbformat_minor": 2
}