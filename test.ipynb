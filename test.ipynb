{
 "cells": [
  {
   "cell_type": "code",
   "execution_count": 35,
   "metadata": {},
   "outputs": [
    {
     "name": "stdout",
     "output_type": "stream",
     "text": [
      "The line_profiler extension is already loaded. To reload it, use:\n",
      "  %reload_ext line_profiler\n"
     ]
    }
   ],
   "source": [
    "import pandas as pd\n",
    "import numpy as np\n",
    "import math as m\n",
    "\n",
    "\n",
    "from numba import jit, njit, prange\n",
    "\n",
    "%load_ext line_profiler"
   ]
  },
  {
   "cell_type": "code",
   "execution_count": 91,
   "metadata": {},
   "outputs": [],
   "source": [
    "dir_path = 'data/waypoints.csv'\n",
    "df = pd.read_csv(dir_path)\n",
    "wx = df['y'].values\n",
    "wy = df['x'].values\n",
    "wx = wx[20:50]\n",
    "wy = wy[20:50]"
   ]
  },
  {
   "cell_type": "markdown",
   "metadata": {},
   "source": [
    "# Vectorisation"
   ]
  },
  {
   "cell_type": "code",
   "execution_count": 37,
   "metadata": {},
   "outputs": [],
   "source": [
    "def solve_1st_derivative(x, y):\n",
    "\n",
    "    dx = np.ediff1d(x)\n",
    "    dy = np.ediff1d(y)\n",
    "    dx = np.concatenate((dx, [dx[0]]))\n",
    "    dy = np.concatenate((dy, [dy[0]]))\n",
    "\n",
    "    return dx, dy"
   ]
  },
  {
   "cell_type": "code",
   "execution_count": 38,
   "metadata": {},
   "outputs": [],
   "source": [
    "%%capture\n",
    "\n",
    "def calculate_yaw_vectorised(x, y):\n",
    "\n",
    "    dx, dy = solve_1st_derivative(x, y)\n",
    "        \n",
    "    return np.arctan2(dy, dx)\n",
    "\n",
    "def calculate_yaw_optimised(x, y):\n",
    "\n",
    "    dx, dy = solve_1st_derivative(x, y)\n",
    "\n",
    "    yaw = []\n",
    "\n",
    "    yaw.append(m.atan2(dy[0], dx[0]))\n",
    "\n",
    "    for i in range(1, len(x) - 1):\n",
    "        d0 = np.array([dx[i], dy[i]])\n",
    "        d0_hat = d0/np.linalg.norm(d0)\n",
    "\n",
    "        d1 = np.array([dx[i-1], dy[i-1]])\n",
    "        d1_hat = d1/np.linalg.norm(d1)\n",
    "\n",
    "        d_bisect = d0_hat + d1_hat\n",
    "        \n",
    "        yaw.append(m.atan2(d_bisect[1], d_bisect[0]))\n",
    "\n",
    "    yaw.append(m.atan2(dy[-1], dx[-1]))\n",
    "        \n",
    "    return yaw\n",
    "\n",
    "def calculate_yaw(x, y):\n",
    "\n",
    "    dx, dy = solve_1st_derivative(x, y)\n",
    "\n",
    "    yaw = []\n",
    "\n",
    "    for i in range(0, len(x)):\n",
    "        yaw.append(np.arctan2(dy[i], dx[i]))\n",
    "\n",
    "    return yaw\n",
    "\n",
    "t_vectorised = %timeit -o calculate_yaw_vectorised(wx, wy)\n",
    "t_optimised = %timeit -o calculate_yaw_optimised(wx, wy)\n",
    "t_default = %timeit -o calculate_yaw(wx, wy)"
   ]
  },
  {
   "cell_type": "code",
   "execution_count": 39,
   "metadata": {},
   "outputs": [
    {
     "name": "stdout",
     "output_type": "stream",
     "text": [
      "\n",
      "Vectorised test:\n",
      "7.61 µs ± 34.8 ns per loop (mean ± std. dev. of 7 runs, 100000 loops each)\n",
      "\n",
      "'Optimised' test:\n",
      "345 µs ± 8.87 µs per loop (mean ± std. dev. of 7 runs, 1000 loops each)\n",
      "\n",
      "Default test:\n",
      "52.4 µs ± 1.84 µs per loop (mean ± std. dev. of 7 runs, 10000 loops each)\n"
     ]
    }
   ],
   "source": [
    "print(\"\\nVectorised test:\\n{}\".format(t_vectorised))\n",
    "print(\"\\n'Optimised' test:\\n{}\".format(t_optimised))\n",
    "print(\"\\nDefault test:\\n{}\".format(t_default))"
   ]
  },
  {
   "cell_type": "markdown",
   "metadata": {},
   "source": [
    "# Exponents"
   ]
  },
  {
   "cell_type": "code",
   "execution_count": 40,
   "metadata": {},
   "outputs": [],
   "source": [
    "%%capture\n",
    "\n",
    "def nat_pow(base, exponent):\n",
    "    result = 1.0\n",
    "\n",
    "    for i in range(0, exponent):\n",
    "        result *= base\n",
    "\n",
    "    return result\n",
    "\n",
    "a = 7.6\n",
    "exp = 3\n",
    "t_manual = %timeit -o a*a\n",
    "t_numpy = %timeit -o np.power(a, exp)\n",
    "t_math = %timeit -o m.pow(a, exp)\n",
    "t_optimised = %timeit -o nat_pow(a, exp)\n",
    "t_standard = %timeit -o pow(a, exp)\n",
    "t_default = %timeit -o a**exp"
   ]
  },
  {
   "cell_type": "code",
   "execution_count": 41,
   "metadata": {},
   "outputs": [
    {
     "name": "stdout",
     "output_type": "stream",
     "text": [
      "\n",
      "Manual test:\n",
      "27.9 ns ± 1.27 ns per loop (mean ± std. dev. of 7 runs, 10000000 loops each)\n",
      "\n",
      "Numpy test:\n",
      "1.12 µs ± 7.38 ns per loop (mean ± std. dev. of 7 runs, 1000000 loops each)\n",
      "\n",
      "Math test:\n",
      "101 ns ± 0.503 ns per loop (mean ± std. dev. of 7 runs, 10000000 loops each)\n",
      "\n",
      "'Optimised' test:\n",
      "227 ns ± 3.32 ns per loop (mean ± std. dev. of 7 runs, 1000000 loops each)\n",
      "\n",
      "Standard test:\n",
      "81.4 ns ± 0.704 ns per loop (mean ± std. dev. of 7 runs, 10000000 loops each)\n",
      "\n",
      "Default test:\n",
      "62 ns ± 0.203 ns per loop (mean ± std. dev. of 7 runs, 10000000 loops each)\n"
     ]
    }
   ],
   "source": [
    "print(\"\\nManual test:\\n{}\".format(t_manual))\n",
    "print(\"\\nNumpy test:\\n{}\".format(t_numpy))\n",
    "print(\"\\nMath test:\\n{}\".format(t_math))\n",
    "print(\"\\n'Optimised' test:\\n{}\".format(t_optimised))\n",
    "print(\"\\nStandard test:\\n{}\".format(t_standard))\n",
    "print(\"\\nDefault test:\\n{}\".format(t_default))"
   ]
  },
  {
   "cell_type": "markdown",
   "metadata": {},
   "source": [
    "# Path Curvature"
   ]
  },
  {
   "cell_type": "code",
   "execution_count": 42,
   "metadata": {},
   "outputs": [],
   "source": [
    "%%capture\n",
    "\n",
    "from libs.cubic_spline_interpolator import calculate_spline_curvature, generate_cubic_path\n",
    "\n",
    "def calculate_curvature_vector(wx, wy, ds):\n",
    "\n",
    "    x, y = generate_cubic_path(wx, wy, ds)\n",
    "    dp = solve_1st_derivative(x, y)\n",
    "    delta_s = np.hypot(dp[0], dp[1])\n",
    "    u_i = dp / delta_s\n",
    "\n",
    "    du = solve_1st_derivative(u_i[0], u_i[1])\n",
    "    abs_du = np.hypot(du[0], du[1])\n",
    "    k_i = abs_du / delta_s\n",
    "\n",
    "    return k_i\n",
    "\n",
    "def calculate_curvature(wx, wy, ds):\n",
    "\n",
    "    x, y = generate_cubic_path(wx, wy, ds)\n",
    "    dx, dy = solve_1st_derivative(x, y)\n",
    "    ddx, ddy = solve_1st_derivative(dx, dy)\n",
    "\n",
    "    return (ddy*dx - ddx*dy) / ((dx*dx + dy*dy)**1.5)\n",
    "\n",
    "ds = 1.0\n",
    "\n",
    "t_vector = %timeit -o calculate_curvature_vector(wx, wy, ds)\n",
    "r_vector = (1 / calculate_curvature_vector(wx, wy, ds)).tolist()[:10]\n",
    "\n",
    "t_spline = %timeit -o calculate_spline_curvature(wx, wy, ds)\n",
    "r_spline = (1 / np.array(calculate_spline_curvature(wx, wy, ds))).tolist()[:10]\n",
    "\n",
    "t_default = %timeit -o calculate_curvature(wx, wy, ds)\n",
    "r_default = (1 / calculate_curvature(wx, wy, ds)).tolist()[:10]"
   ]
  },
  {
   "cell_type": "code",
   "execution_count": 43,
   "metadata": {},
   "outputs": [
    {
     "name": "stdout",
     "output_type": "stream",
     "text": [
      "\n",
      "Vector test:\n",
      "600 µs ± 5.15 µs per loop (mean ± std. dev. of 7 runs, 1000 loops each) \n",
      "[13.504176855476265, 6.3489550257814615, 4.951128048443533, 7.566267434586032, 18.371708777829113, 40.017861005926726, 15.867688114356195, 9.391545229469617, 9.864821440218503, 18.1204985021757]\n",
      "\n",
      "Spline test:\n",
      "761 µs ± 15.4 µs per loop (mean ± std. dev. of 7 runs, 1000 loops each) \n",
      "[-1.036692339042675e+16, 13.489905239824152, 6.273348283154895, 4.583746334950832, 7.691486743511906, 18.825165073486, 52.42479601800344, 15.78212714221633, 9.109764520574096, 9.77077257041433]\n",
      "\n",
      "Default test:\n",
      "593 µs ± 3.17 µs per loop (mean ± std. dev. of 7 runs, 1000 loops each) \n",
      "[13.778153793742078, 6.505713159974447, 4.937286760627668, 7.4139258953556615, 18.24968043695906, 40.45969693406867, 16.080061487876694, 9.451627047904548, 9.805865024357892, 17.979095861755038]\n"
     ]
    }
   ],
   "source": [
    "print(\"\\nVector test:\\n{} \\n{}\".format(t_vector, r_vector))\n",
    "print(\"\\nSpline test:\\n{} \\n{}\".format(t_spline, r_spline))\n",
    "print(\"\\nDefault test:\\n{} \\n{}\".format(t_default, r_default))"
   ]
  },
  {
   "cell_type": "markdown",
   "metadata": {},
   "source": [
    "# Prepending"
   ]
  },
  {
   "cell_type": "code",
   "execution_count": 44,
   "metadata": {},
   "outputs": [],
   "source": [
    "%%capture\n",
    "\n",
    "def solve_1st_derivative_insert(x, y):\n",
    "\n",
    "    dx = np.ediff1d(x)\n",
    "    dy = np.ediff1d(y)\n",
    "    dx = np.insert(dx, 0, dx[-1])\n",
    "    dy = np.insert(dy, 0, dy[-1])\n",
    "\n",
    "    return dx, dy\n",
    "\n",
    "def solve_1st_derivative_concat(x, y):\n",
    "\n",
    "    dx = np.ediff1d(x)\n",
    "    dy = np.ediff1d(y)\n",
    "    dx = np.concatenate((dx, [dx[-1]]))\n",
    "    dy = np.concatenate((dy, [dy[-1]]))\n",
    "\n",
    "    return dx, dy\n",
    "\n",
    "t_insert = %timeit -o solve_1st_derivative_insert(wx, wy)\n",
    "d = solve_1st_derivative_insert(wx, wy)\n",
    "d_insert = d[0][:5]\n",
    "\n",
    "t_concat = %timeit -o solve_1st_derivative_concat(wx, wy)\n",
    "d = solve_1st_derivative_concat(wx, wy)\n",
    "d_concat = d[0][:5]"
   ]
  },
  {
   "cell_type": "code",
   "execution_count": 45,
   "metadata": {},
   "outputs": [
    {
     "name": "stdout",
     "output_type": "stream",
     "text": [
      "\n",
      "Insert test:\n",
      "25.5 µs ± 724 ns per loop (mean ± std. dev. of 7 runs, 10000 loops each)\n",
      "[8.0661     2.15463259 1.21198083 0.73237982 0.06881949]\n",
      "\n",
      "Concatenate test:\n",
      "6.33 µs ± 28.6 ns per loop (mean ± std. dev. of 7 runs, 100000 loops each)\n",
      "[2.15463259 1.21198083 0.73237982 0.06881949 0.05440933]\n"
     ]
    }
   ],
   "source": [
    "print(\"\\nInsert test:\\n{}\\n{}\".format(t_insert, d_insert))\n",
    "print(\"\\nConcatenate test:\\n{}\\n{}\".format(t_concat, d_concat))"
   ]
  },
  {
   "cell_type": "markdown",
   "metadata": {},
   "source": [
    "# Tuple"
   ]
  },
  {
   "cell_type": "code",
   "execution_count": 46,
   "metadata": {},
   "outputs": [],
   "source": [
    "%%capture\n",
    "\n",
    "def calculate_curvature_vector(wx, wy):\n",
    "\n",
    "    dp = solve_1st_derivative(wx, wy)\n",
    "    delta_s = np.hypot(dp[0], dp[1])\n",
    "    u_i = dp / delta_s\n",
    "\n",
    "    du = solve_1st_derivative(u_i[0], u_i[1])\n",
    "    abs_du = np.hypot(du[0], du[1])\n",
    "    k_i = abs_du / delta_s\n",
    "\n",
    "    return k_i\n",
    "\n",
    "def calculate_curvature_vector_tuple(wx, wy):\n",
    "\n",
    "    dp_x, dp_y = solve_1st_derivative(wx, wy)\n",
    "    delta_s = np.hypot(dp_x, dp_y)\n",
    "    u_i_x = dp_x / delta_s\n",
    "    u_i_y = dp_y / delta_s\n",
    "\n",
    "    du_x, du_y = solve_1st_derivative(u_i_x, u_i_y)\n",
    "    abs_du = np.hypot(du_x, du_y)\n",
    "    k_i = abs_du / delta_s\n",
    "\n",
    "    return k_i\n",
    "\n",
    "t_tuple = %timeit -o calculate_curvature_vector_tuple(wx, wy)\n",
    "t_default = %timeit -o calculate_curvature_vector(wx, wy)"
   ]
  },
  {
   "cell_type": "code",
   "execution_count": 47,
   "metadata": {},
   "outputs": [
    {
     "name": "stdout",
     "output_type": "stream",
     "text": [
      "\n",
      "Tuple test:\n",
      "17.2 µs ± 119 ns per loop (mean ± std. dev. of 7 runs, 100000 loops each)\n",
      "\n",
      "Default test:\n",
      "18.7 µs ± 619 ns per loop (mean ± std. dev. of 7 runs, 100000 loops each)\n"
     ]
    }
   ],
   "source": [
    "print(\"\\nTuple test:\\n{}\".format(t_tuple))\n",
    "print(\"\\nDefault test:\\n{}\".format(t_default))"
   ]
  },
  {
   "cell_type": "code",
   "execution_count": 48,
   "metadata": {},
   "outputs": [],
   "source": [
    "%%capture\n",
    "\n",
    "def solve_1st_derivative_concat_tuple(s):\n",
    "\n",
    "    ds = np.diff(s)\n",
    "    ds = np.concatenate((ds, [ds[-1]]))\n",
    "\n",
    "    return ds\n",
    "\n",
    "t_tuple = %timeit -o solve_1st_derivative_concat_tuple((wx, wy))\n",
    "d_tuple = solve_1st_derivative_concat_tuple((wx, wy))\n",
    "\n",
    "t_default = %timeit -o solve_1st_derivative_concat(wx, wy)\n",
    "d_default = solve_1st_derivative(wx, wy)"
   ]
  },
  {
   "cell_type": "code",
   "execution_count": 49,
   "metadata": {},
   "outputs": [
    {
     "name": "stdout",
     "output_type": "stream",
     "text": [
      "\n",
      "Tuple test:\n",
      "7.51 µs ± 175 ns per loop (mean ± std. dev. of 7 runs, 100000 loops each)\n",
      "[[ 2.15463259  1.21198083  0.73237982  0.06881949  0.05440933 -0.03501278\n",
      "  -0.28010224 -0.42015336  0.24518732  0.86481566  1.1658277   1.92570288\n",
      "   1.78565176  2.26990153  2.66960401  3.66488103  3.47810295  7.44988714\n",
      "   2.41022589  2.55862621  3.55514378  4.22846647  6.22150162  7.28912207\n",
      "   7.6798462   7.4389      7.0931      7.9987      8.0661    ]\n",
      " [ 1.83143771  2.58555911  2.65531525  3.45369463  3.98562497  2.80102237\n",
      "   2.5909457   2.62595847  2.82893839  2.50341375  1.6702038   1.50554953\n",
      "   1.36549841  1.50321534  1.85624033  2.50516538  2.34855563  4.70054412\n",
      "   1.30463004  0.7271885   0.61945687  0.43092652  0.70025559  0.76920384\n",
      "   1.03028681  0.845       0.7592      0.8385      0.8935    ]\n",
      " [ 1.83143771  2.58555911  2.65531525  3.45369463  3.98562497  2.80102237\n",
      "   2.5909457   2.62595847  2.82893839  2.50341375  1.6702038   1.50554953\n",
      "   1.36549841  1.50321534  1.85624033  2.50516538  2.34855563  4.70054412\n",
      "   1.30463004  0.7271885   0.61945687  0.43092652  0.70025559  0.76920384\n",
      "   1.03028681  0.845       0.7592      0.8385      0.8935    ]]\n",
      "\n",
      "Default test:\n",
      "6.33 µs ± 167 ns per loop (mean ± std. dev. of 7 runs, 100000 loops each)\n",
      "(array([ 2.15463259,  1.21198083,  0.73237982,  0.06881949,  0.05440933,\n",
      "       -0.03501278, -0.28010224, -0.42015336,  0.24518732,  0.86481566,\n",
      "        1.1658277 ,  1.92570288,  1.78565176,  2.26990153,  2.66960401,\n",
      "        3.66488103,  3.47810295,  7.44988714,  2.41022589,  2.55862621,\n",
      "        3.55514378,  4.22846647,  6.22150162,  7.28912207,  7.6798462 ,\n",
      "        7.4389    ,  7.0931    ,  7.9987    ,  8.0661    ,  2.15463259]), array([1.83143771, 2.58555911, 2.65531525, 3.45369463, 3.98562497,\n",
      "       2.80102237, 2.5909457 , 2.62595847, 2.82893839, 2.50341375,\n",
      "       1.6702038 , 1.50554953, 1.36549841, 1.50321534, 1.85624033,\n",
      "       2.50516538, 2.34855563, 4.70054412, 1.30463004, 0.7271885 ,\n",
      "       0.61945687, 0.43092652, 0.70025559, 0.76920384, 1.03028681,\n",
      "       0.845     , 0.7592    , 0.8385    , 0.8935    , 1.83143771]))\n"
     ]
    }
   ],
   "source": [
    "print(\"\\nTuple test:\\n{}\\n{}\".format(t_tuple, d_tuple))\n",
    "print(\"\\nDefault test:\\n{}\\n{}\".format(t_default, d_default))"
   ]
  },
  {
   "cell_type": "markdown",
   "metadata": {},
   "source": [
    "# Concatenation"
   ]
  },
  {
   "cell_type": "code",
   "execution_count": 50,
   "metadata": {},
   "outputs": [
    {
     "name": "stdout",
     "output_type": "stream",
     "text": [
      "2.22 µs ± 40.9 ns per loop (mean ± std. dev. of 7 runs, 100000 loops each)\n",
      "2.18 µs ± 32.2 ns per loop (mean ± std. dev. of 7 runs, 100000 loops each)\n",
      "2.43 µs ± 15.6 ns per loop (mean ± std. dev. of 7 runs, 100000 loops each)\n"
     ]
    }
   ],
   "source": [
    "t_list = %timeit -o np.concatenate(([0], np.hypot(wx, wy)))\n",
    "t_zeros = %timeit -o np.concatenate((np.zeros(1), np.hypot(wx, wy)))\n",
    "t_array = %timeit -o np.concatenate((np.array([0]), np.hypot(wx, wy)))"
   ]
  },
  {
   "cell_type": "code",
   "execution_count": 51,
   "metadata": {},
   "outputs": [
    {
     "name": "stdout",
     "output_type": "stream",
     "text": [
      "\n",
      " List test:\n",
      " 2.22 µs ± 40.9 ns per loop (mean ± std. dev. of 7 runs, 100000 loops each)\n",
      "\n",
      " Zeros test:\n",
      " 2.18 µs ± 32.2 ns per loop (mean ± std. dev. of 7 runs, 100000 loops each)\n",
      "\n",
      " Array test:\n",
      " 2.43 µs ± 15.6 ns per loop (mean ± std. dev. of 7 runs, 100000 loops each)\n"
     ]
    }
   ],
   "source": [
    "print(f\"\\n List test:\\n {t_list}\")\n",
    "print(f\"\\n Zeros test:\\n {t_zeros}\")\n",
    "print(f\"\\n Array test:\\n {t_array}\")"
   ]
  },
  {
   "cell_type": "markdown",
   "metadata": {},
   "source": [
    "# Numba"
   ]
  },
  {
   "cell_type": "code",
   "execution_count": 86,
   "metadata": {},
   "outputs": [
    {
     "name": "stdout",
     "output_type": "stream",
     "text": [
      "29\n",
      "\n",
      "SciPy test:\n",
      " (0.0, 29)\n",
      "\n",
      "Numba test:\n",
      " (0.0, 29, array([93.5462479 , 91.39161531, 90.17963447, 89.44725466, 89.37843516,\n",
      "       89.32402583, 89.35903861, 89.63914085, 90.05929421, 89.81410689,\n",
      "       88.94929123, 87.78346353, 85.85776065, 84.07210888, 81.80220735,\n",
      "       79.13260335, 75.46772232, 71.98961937, 64.53973222, 62.12950634,\n",
      "       59.57088013, 56.01573635, 51.78726988, 45.56576826, 38.2766462 ,\n",
      "       30.5968    , 23.1579    , 16.0648    ,  8.0661    ,  0.        ]), array([54.23503104, 52.40359334, 49.81803422, 47.16271898, 43.70902434,\n",
      "       39.72339938, 36.922377  , 34.33143131, 31.70547283, 28.87653444,\n",
      "       26.3731207 , 24.7029169 , 23.19736737, 21.83186897, 20.32865363,\n",
      "       18.4724133 , 15.96724792, 13.61869229,  8.91814816,  7.61351813,\n",
      "        6.88632963,  6.26687276,  5.83594624,  5.13569064,  4.36648681,\n",
      "        3.3362    ,  2.4912    ,  1.732     ,  0.8935    ,  0.        ]))\n",
      "\n",
      "Numpy test:\n",
      " (0.0, 29, array([93.5462479 , 91.39161531, 90.17963447, 89.44725466, 89.37843516,\n",
      "       89.32402583, 89.35903861, 89.63914085, 90.05929421, 89.81410689,\n",
      "       88.94929123, 87.78346353, 85.85776065, 84.07210888, 81.80220735,\n",
      "       79.13260335, 75.46772232, 71.98961937, 64.53973222, 62.12950634,\n",
      "       59.57088013, 56.01573635, 51.78726988, 45.56576826, 38.2766462 ,\n",
      "       30.5968    , 23.1579    , 16.0648    ,  8.0661    ,  0.        ]), array([54.23503104, 52.40359334, 49.81803422, 47.16271898, 43.70902434,\n",
      "       39.72339938, 36.922377  , 34.33143131, 31.70547283, 28.87653444,\n",
      "       26.3731207 , 24.7029169 , 23.19736737, 21.83186897, 20.32865363,\n",
      "       18.4724133 , 15.96724792, 13.61869229,  8.91814816,  7.61351813,\n",
      "        6.88632963,  6.26687276,  5.83594624,  5.13569064,  4.36648681,\n",
      "        3.3362    ,  2.4912    ,  1.732     ,  0.8935    ,  0.        ]))\n",
      "\n",
      "Standard test:\n",
      " (0.0, 29, [93.54624790209999, 91.39161530729999, 90.17963447279999, 89.4472546568, 89.3784351633, 89.32402583439999, 89.35903861399999, 89.6391408514, 90.05929420729998, 89.81410688689999, 88.9492912292, 87.78346352909999, 85.8577606476, 84.0721088847, 81.802207355, 79.13260334959999, 75.4677223171, 71.9896193668, 64.53973222309999, 62.12950633679999, 59.57088013059999, 56.0157363492, 51.78726988199999, 45.5657682647, 38.2766461967, 30.596799999999988, 23.157899999999984, 16.06479999999999, 8.066100000000006, 0.0], [54.23503104219999, 52.4035933366, 49.818034222899996, 47.162718977299996, 43.7090243431, 39.723399375499994, 36.9223770024, 34.3314313072, 31.70547283229999, 28.876534444599997, 26.37312069859999, 24.702916899399995, 23.19736737379999, 21.83186896689999, 20.328653627500003, 18.472413299799996, 15.967247916700003, 13.618692285500003, 8.918148164699986, 7.613518128600006, 6.886329627900011, 6.2668727569, 5.8359462379000036, 5.1356906446999915, 4.366486808299996, 3.336199999999991, 2.491199999999992, 1.7319999999999993, 0.8935000000000031, 0.0])\n"
     ]
    }
   ],
   "source": [
    "from scipy.spatial import cKDTree\n",
    "from scipy.spatial.distance import cdist\n",
    "\n",
    "def calculate_closest_id(x, y, point):\n",
    "\n",
    "    dx = [point[0] - icx for icx in x]\n",
    "    dy = [point[1] - icy for icy in y] \n",
    "\n",
    "    d = np.hypot(dx, dy)\n",
    "\n",
    "    return np.min(d), np.argmin(d), dx, dy\n",
    "\n",
    "def calculate_closest_id_numpy(x, y, point):\n",
    "\n",
    "    dx = point[0] - x\n",
    "    dy = point[1] - y\n",
    "\n",
    "    d = np.hypot(dx, dy)\n",
    "\n",
    "    return np.min(d), np.argmin(d), dx, dy\n",
    "\n",
    "calculate_closest_id_numpy_jit = jit(nopython=True)(calculate_closest_id_numpy)\n",
    "\n",
    "scipy_cdist = cdist(np.array([wx, wy]).T, np.array([[wx[-1], wy[-1]]])).argmin()\n",
    "scipy_ckdtree = cKDTree(np.array([wx, wy]).T).query(np.array([wx[-1], wy[-1]]), k=1, workers=-1)\n",
    "numba = calculate_closest_id_numpy_jit(wx, wy, (wx[-1], wy[-1]))\n",
    "numpy = calculate_closest_id_numpy(wx, wy, (wx[-1], wy[-1]))\n",
    "standard = calculate_closest_id(wx.tolist(), wy.tolist(), (float(wx[-1]), float(wy[-1])))\n",
    "\n",
    "print(f\"\\nSciPy cDist test:\\n {scipy_cdist}\")\n",
    "print(f\"\\nSciPy cKDTree test:\\n {scipy_ckdtree}\")\n",
    "print(f\"\\nNumba test:\\n {numba}\")\n",
    "print(f\"\\nNumpy test:\\n {numpy}\")\n",
    "print(f\"\\nStandard test:\\n {standard}\")"
   ]
  },
  {
   "cell_type": "code",
   "execution_count": 92,
   "metadata": {},
   "outputs": [
    {
     "name": "stdout",
     "output_type": "stream",
     "text": [
      "12.8 µs ± 182 ns per loop (mean ± std. dev. of 7 runs, 100000 loops each)\n",
      "62.7 µs ± 570 ns per loop (mean ± std. dev. of 7 runs, 10000 loops each)\n",
      "2.04 µs ± 24.1 ns per loop (mean ± std. dev. of 7 runs, 100000 loops each)\n",
      "8.58 µs ± 135 ns per loop (mean ± std. dev. of 7 runs, 100000 loops each)\n",
      "30.9 µs ± 87.1 ns per loop (mean ± std. dev. of 7 runs, 10000 loops each)\n"
     ]
    }
   ],
   "source": [
    "scipy_cdist_t = %timeit -o cdist(np.array([wx, wy]).T, np.array([[wx[-1], wy[-1]]])).argmin()\n",
    "scipy_ckdtree_t = %timeit -o cKDTree(np.array([wx, wy]).T).query(np.array([wx[-1], wy[-1]]), k=1, workers=-1)\n",
    "numba_t = %timeit -o calculate_closest_id_numpy_jit(wx, wy, (wx[-1], wy[-1]))\n",
    "numpy_t = %timeit -o calculate_closest_id_numpy(wx, wy, (wx[-1], wy[-1]))\n",
    "standard_t = %timeit -o calculate_closest_id(wx.tolist(), wy.tolist(), (float(wx[-1]), float(wy[-1])))"
   ]
  },
  {
   "cell_type": "code",
   "execution_count": 93,
   "metadata": {},
   "outputs": [
    {
     "name": "stdout",
     "output_type": "stream",
     "text": [
      "\n",
      "SciPy cDist test:\n",
      " 12.8 µs ± 182 ns per loop (mean ± std. dev. of 7 runs, 100000 loops each)\n",
      "\n",
      "SciPy cKDTree test:\n",
      " 62.7 µs ± 570 ns per loop (mean ± std. dev. of 7 runs, 10000 loops each)\n",
      "\n",
      "Numba test:\n",
      " 2.04 µs ± 24.1 ns per loop (mean ± std. dev. of 7 runs, 100000 loops each)\n",
      "\n",
      "Numpy test:\n",
      " 8.58 µs ± 135 ns per loop (mean ± std. dev. of 7 runs, 100000 loops each)\n",
      "\n",
      "Standard test:\n",
      " 30.9 µs ± 87.1 ns per loop (mean ± std. dev. of 7 runs, 10000 loops each)\n"
     ]
    }
   ],
   "source": [
    "print(f\"\\nSciPy cDist test:\\n {scipy_cdist_t}\")\n",
    "print(f\"\\nSciPy cKDTree test:\\n {scipy_ckdtree_t}\")\n",
    "print(f\"\\nNumba test:\\n {numba_t}\")\n",
    "print(f\"\\nNumpy test:\\n {numpy_t}\")\n",
    "print(f\"\\nStandard test:\\n {standard_t}\")"
   ]
  }
 ],
 "metadata": {
  "interpreter": {
   "hash": "cbbbd16f8fd095b74e0dc849e6684d5402e94c25f085b16fe212f438f1817bd2"
  },
  "kernelspec": {
   "display_name": "Python 3.9.5 64-bit ('optimizer': conda)",
   "name": "python3"
  },
  "language_info": {
   "codemirror_mode": {
    "name": "ipython",
    "version": 3
   },
   "file_extension": ".py",
   "mimetype": "text/x-python",
   "name": "python",
   "nbconvert_exporter": "python",
   "pygments_lexer": "ipython3",
   "version": "3.9.5"
  },
  "orig_nbformat": 4
 },
 "nbformat": 4,
 "nbformat_minor": 2
}
