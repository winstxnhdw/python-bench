{
 "cells": [
  {
   "cell_type": "code",
   "execution_count": 75,
   "source": [
    "import pandas as pd\n",
    "import numpy as np\n",
    "import math as m"
   ],
   "outputs": [],
   "metadata": {}
  },
  {
   "cell_type": "code",
   "execution_count": 94,
   "source": [
    "dir_path = 'data/waypoints.csv'\n",
    "df = pd.read_csv(dir_path)\n",
    "wx = df['y'].values.tolist()\n",
    "wy = df['x'].values.tolist()\n",
    "wx = wx[20:50]\n",
    "wy = wy[20:50]"
   ],
   "outputs": [],
   "metadata": {}
  },
  {
   "cell_type": "markdown",
   "source": [
    "# Vectorisation"
   ],
   "metadata": {}
  },
  {
   "cell_type": "code",
   "execution_count": 109,
   "source": [
    "%%capture\n",
    "\n",
    "def solve_1st_derivative(x, y):\n",
    "\n",
    "    dx = np.ediff1d(x)\n",
    "    dy = np.ediff1d(y)\n",
    "\n",
    "    dx = np.append(dx, dx[0])\n",
    "    dy = np.append(dy, dy[0])\n",
    "\n",
    "    return dx, dy\n",
    "\n",
    "def calculate_yaw_vectorised(x, y):\n",
    "\n",
    "    dx, dy = solve_1st_derivative(x, y)\n",
    "        \n",
    "    return np.arctan2(dy, dx)\n",
    "\n",
    "def calculate_yaw_optimised(x, y):\n",
    "\n",
    "    dx, dy = solve_1st_derivative(x, y)\n",
    "\n",
    "    yaw = []\n",
    "\n",
    "    yaw.append(m.atan2(dy[0], dx[0]))\n",
    "\n",
    "    for i in range(1, len(x) - 1):\n",
    "        d0 = np.array([dx[i], dy[i]])\n",
    "        d0_hat = d0/np.linalg.norm(d0)\n",
    "\n",
    "        d1 = np.array([dx[i-1], dy[i-1]])\n",
    "        d1_hat = d1/np.linalg.norm(d1)\n",
    "\n",
    "        d_bisect = d0_hat + d1_hat\n",
    "        \n",
    "        yaw.append(m.atan2(d_bisect[1], d_bisect[0]))\n",
    "\n",
    "    yaw.append(m.atan2(dy[-1], dx[-1]))\n",
    "        \n",
    "    return yaw\n",
    "\n",
    "def calculate_yaw(x, y):\n",
    "\n",
    "    dx, dy = solve_1st_derivative(x, y)\n",
    "\n",
    "    yaw = []\n",
    "\n",
    "    for i in range(0, len(x)):\n",
    "        yaw.append(np.arctan2(dy[i], dx[i]))\n",
    "\n",
    "    return yaw\n",
    "\n",
    "t_vectorised = %timeit -o calculate_yaw_vectorised(wx, wy)\n",
    "t_optimised = %timeit -o calculate_yaw_optimised(wx, wy)\n",
    "t_default = %timeit -o calculate_yaw(wx, wy)"
   ],
   "outputs": [],
   "metadata": {}
  },
  {
   "cell_type": "code",
   "execution_count": 102,
   "source": [
    "print(\"\\nVectorised test:\\n{}\".format(t_vectorised))\n",
    "print(\"\\n'Optimised' test:\\n{}\".format(t_optimised))\n",
    "print(\"\\nDefault test:\\n{}\".format(t_default))"
   ],
   "outputs": [
    {
     "output_type": "stream",
     "name": "stdout",
     "text": [
      "\n",
      "Vectorised test:\n",
      "49.1 µs ± 1.63 µs per loop (mean ± std. dev. of 7 runs, 10000 loops each)\n",
      "\n",
      "'Optimised' test:\n",
      "616 µs ± 17.4 µs per loop (mean ± std. dev. of 7 runs, 1000 loops each)\n",
      "\n",
      "Default test:\n",
      "125 µs ± 1.57 µs per loop (mean ± std. dev. of 7 runs, 10000 loops each)\n"
     ]
    }
   ],
   "metadata": {}
  },
  {
   "cell_type": "markdown",
   "source": [
    "# Exponents"
   ],
   "metadata": {}
  },
  {
   "cell_type": "code",
   "execution_count": 103,
   "source": [
    "%%capture\n",
    "\n",
    "def nat_pow(a, exp):\n",
    "\n",
    "    for i in range(0, exp):\n",
    "        a *= a\n",
    "\n",
    "    return a\n",
    "\n",
    "a = 7.6\n",
    "exp = 3\n",
    "t_manual = %timeit -o a*a\n",
    "t_numpy = %timeit -o np.power(a, exp)\n",
    "t_math = %timeit -o m.pow(a, exp)\n",
    "t_optimised = %timeit -o nat_pow(a, exp)\n",
    "t_standard = %timeit -o pow(a, exp)\n",
    "t_default = %timeit -o a**exp"
   ],
   "outputs": [],
   "metadata": {}
  },
  {
   "cell_type": "code",
   "execution_count": 104,
   "source": [
    "print(\"\\nManual test:\\n{}\".format(t_manual))\n",
    "print(\"\\nNumpy test:\\n{}\".format(t_numpy))\n",
    "print(\"\\nMath test:\\n{}\".format(t_math))\n",
    "print(\"\\n'Optimised' test:\\n{}\".format(t_optimised))\n",
    "print(\"\\nStandard test:\\n{}\".format(t_standard))\n",
    "print(\"\\nDefault test:\\n{}\".format(t_default))"
   ],
   "outputs": [
    {
     "output_type": "stream",
     "name": "stdout",
     "text": [
      "\n",
      "Manual test:\n",
      "43.8 ns ± 1.4 ns per loop (mean ± std. dev. of 7 runs, 10000000 loops each)\n",
      "\n",
      "Numpy test:\n",
      "1.78 µs ± 42.5 ns per loop (mean ± std. dev. of 7 runs, 1000000 loops each)\n",
      "\n",
      "Math test:\n",
      "142 ns ± 1.23 ns per loop (mean ± std. dev. of 7 runs, 10000000 loops each)\n",
      "\n",
      "'Optimised' test:\n",
      "330 ns ± 17.5 ns per loop (mean ± std. dev. of 7 runs, 1000000 loops each)\n",
      "\n",
      "Standard test:\n",
      "125 ns ± 2.43 ns per loop (mean ± std. dev. of 7 runs, 10000000 loops each)\n",
      "\n",
      "Default test:\n",
      "89.4 ns ± 1.45 ns per loop (mean ± std. dev. of 7 runs, 10000000 loops each)\n"
     ]
    }
   ],
   "metadata": {}
  },
  {
   "cell_type": "markdown",
   "source": [
    "# Calculating Path Curvature"
   ],
   "metadata": {}
  },
  {
   "cell_type": "code",
   "execution_count": 116,
   "source": [
    "%%capture\n",
    "\n",
    "from libs.cubic_spline_interpolator import calculate_spline_curvature, generate_cubic_path\n",
    "\n",
    "def calculate_curvature_vector(wx, wy):\n",
    "\n",
    "    x, y = generate_cubic_path(wx, wy, 0.1)\n",
    "    dp = solve_1st_derivative(x, y)\n",
    "    delta_s = np.hypot(dp[0], dp[1])\n",
    "    u_i = dp / delta_s\n",
    "\n",
    "    du = solve_1st_derivative(u_i[0], u_i[1])\n",
    "    abs_du = np.hypot(du[0], du[1])\n",
    "    k_i = abs_du / delta_s\n",
    "\n",
    "    return k_i\n",
    "\n",
    "def calculate_curvature(wx, wy):\n",
    "\n",
    "    x, y = generate_cubic_path(wx, wy, 0.1)\n",
    "    dx, dy = solve_1st_derivative(x, y)\n",
    "    ddx, ddy = solve_1st_derivative(dx, dy)\n",
    "\n",
    "    return (ddy*dx - ddx*dy) / ((dx*dx + dy*dy)**(3/2))\n",
    "\n",
    "\n",
    "t_vector = %timeit -o calculate_curvature_vector(wx, wy)\n",
    "k_vector = list(calculate_curvature_vector(wx, wy))[:30]\n",
    "\n",
    "t_spline = %timeit -o calculate_spline_curvature(wx, wy, 0.1)\n",
    "k_spline = list(calculate_spline_curvature(wx, wy, 0.1))[:30]\n",
    "\n",
    "t_default = %timeit -o calculate_curvature(wx, wy)\n",
    "k_default = list(calculate_curvature(wx, wy))[:30]"
   ],
   "outputs": [
    {
     "output_type": "error",
     "ename": "ValueError",
     "evalue": "too many values to unpack (expected 2)",
     "traceback": [
      "\u001b[0;31m---------------------------------------------------------------------------\u001b[0m",
      "\u001b[0;31mValueError\u001b[0m                                Traceback (most recent call last)",
      "\u001b[0;32m<ipython-input-116-4d1b1d615b63>\u001b[0m in \u001b[0;36m<module>\u001b[0;34m\u001b[0m\n\u001b[1;32m     23\u001b[0m \u001b[0;34m\u001b[0m\u001b[0m\n\u001b[1;32m     24\u001b[0m \u001b[0;34m\u001b[0m\u001b[0m\n\u001b[0;32m---> 25\u001b[0;31m \u001b[0mt_vector\u001b[0m \u001b[0;34m=\u001b[0m \u001b[0mget_ipython\u001b[0m\u001b[0;34m(\u001b[0m\u001b[0;34m)\u001b[0m\u001b[0;34m.\u001b[0m\u001b[0mrun_line_magic\u001b[0m\u001b[0;34m(\u001b[0m\u001b[0;34m'timeit'\u001b[0m\u001b[0;34m,\u001b[0m \u001b[0;34m'-o calculate_curvature_vector(wx, wy)'\u001b[0m\u001b[0;34m)\u001b[0m\u001b[0;34m\u001b[0m\u001b[0;34m\u001b[0m\u001b[0m\n\u001b[0m\u001b[1;32m     26\u001b[0m \u001b[0mk_vector\u001b[0m \u001b[0;34m=\u001b[0m \u001b[0mlist\u001b[0m\u001b[0;34m(\u001b[0m\u001b[0mcalculate_curvature_vector\u001b[0m\u001b[0;34m(\u001b[0m\u001b[0mwx\u001b[0m\u001b[0;34m,\u001b[0m \u001b[0mwy\u001b[0m\u001b[0;34m)\u001b[0m\u001b[0;34m)\u001b[0m\u001b[0;34m[\u001b[0m\u001b[0;34m:\u001b[0m\u001b[0;36m30\u001b[0m\u001b[0;34m]\u001b[0m\u001b[0;34m\u001b[0m\u001b[0;34m\u001b[0m\u001b[0m\n\u001b[1;32m     27\u001b[0m \u001b[0;34m\u001b[0m\u001b[0m\n",
      "\u001b[0;32m~/miniconda3/envs/optimizer/lib/python3.9/site-packages/IPython/core/interactiveshell.py\u001b[0m in \u001b[0;36mrun_line_magic\u001b[0;34m(self, magic_name, line, _stack_depth)\u001b[0m\n\u001b[1;32m   2346\u001b[0m                 \u001b[0mkwargs\u001b[0m\u001b[0;34m[\u001b[0m\u001b[0;34m'local_ns'\u001b[0m\u001b[0;34m]\u001b[0m \u001b[0;34m=\u001b[0m \u001b[0mself\u001b[0m\u001b[0;34m.\u001b[0m\u001b[0mget_local_scope\u001b[0m\u001b[0;34m(\u001b[0m\u001b[0mstack_depth\u001b[0m\u001b[0;34m)\u001b[0m\u001b[0;34m\u001b[0m\u001b[0;34m\u001b[0m\u001b[0m\n\u001b[1;32m   2347\u001b[0m             \u001b[0;32mwith\u001b[0m \u001b[0mself\u001b[0m\u001b[0;34m.\u001b[0m\u001b[0mbuiltin_trap\u001b[0m\u001b[0;34m:\u001b[0m\u001b[0;34m\u001b[0m\u001b[0;34m\u001b[0m\u001b[0m\n\u001b[0;32m-> 2348\u001b[0;31m                 \u001b[0mresult\u001b[0m \u001b[0;34m=\u001b[0m \u001b[0mfn\u001b[0m\u001b[0;34m(\u001b[0m\u001b[0;34m*\u001b[0m\u001b[0margs\u001b[0m\u001b[0;34m,\u001b[0m \u001b[0;34m**\u001b[0m\u001b[0mkwargs\u001b[0m\u001b[0;34m)\u001b[0m\u001b[0;34m\u001b[0m\u001b[0;34m\u001b[0m\u001b[0m\n\u001b[0m\u001b[1;32m   2349\u001b[0m             \u001b[0;32mreturn\u001b[0m \u001b[0mresult\u001b[0m\u001b[0;34m\u001b[0m\u001b[0;34m\u001b[0m\u001b[0m\n\u001b[1;32m   2350\u001b[0m \u001b[0;34m\u001b[0m\u001b[0m\n",
      "\u001b[0;32m~/miniconda3/envs/optimizer/lib/python3.9/site-packages/decorator.py\u001b[0m in \u001b[0;36mfun\u001b[0;34m(*args, **kw)\u001b[0m\n\u001b[1;32m    230\u001b[0m             \u001b[0;32mif\u001b[0m \u001b[0;32mnot\u001b[0m \u001b[0mkwsyntax\u001b[0m\u001b[0;34m:\u001b[0m\u001b[0;34m\u001b[0m\u001b[0;34m\u001b[0m\u001b[0m\n\u001b[1;32m    231\u001b[0m                 \u001b[0margs\u001b[0m\u001b[0;34m,\u001b[0m \u001b[0mkw\u001b[0m \u001b[0;34m=\u001b[0m \u001b[0mfix\u001b[0m\u001b[0;34m(\u001b[0m\u001b[0margs\u001b[0m\u001b[0;34m,\u001b[0m \u001b[0mkw\u001b[0m\u001b[0;34m,\u001b[0m \u001b[0msig\u001b[0m\u001b[0;34m)\u001b[0m\u001b[0;34m\u001b[0m\u001b[0;34m\u001b[0m\u001b[0m\n\u001b[0;32m--> 232\u001b[0;31m             \u001b[0;32mreturn\u001b[0m \u001b[0mcaller\u001b[0m\u001b[0;34m(\u001b[0m\u001b[0mfunc\u001b[0m\u001b[0;34m,\u001b[0m \u001b[0;34m*\u001b[0m\u001b[0;34m(\u001b[0m\u001b[0mextras\u001b[0m \u001b[0;34m+\u001b[0m \u001b[0margs\u001b[0m\u001b[0;34m)\u001b[0m\u001b[0;34m,\u001b[0m \u001b[0;34m**\u001b[0m\u001b[0mkw\u001b[0m\u001b[0;34m)\u001b[0m\u001b[0;34m\u001b[0m\u001b[0;34m\u001b[0m\u001b[0m\n\u001b[0m\u001b[1;32m    233\u001b[0m     \u001b[0mfun\u001b[0m\u001b[0;34m.\u001b[0m\u001b[0m__name__\u001b[0m \u001b[0;34m=\u001b[0m \u001b[0mfunc\u001b[0m\u001b[0;34m.\u001b[0m\u001b[0m__name__\u001b[0m\u001b[0;34m\u001b[0m\u001b[0;34m\u001b[0m\u001b[0m\n\u001b[1;32m    234\u001b[0m     \u001b[0mfun\u001b[0m\u001b[0;34m.\u001b[0m\u001b[0m__doc__\u001b[0m \u001b[0;34m=\u001b[0m \u001b[0mfunc\u001b[0m\u001b[0;34m.\u001b[0m\u001b[0m__doc__\u001b[0m\u001b[0;34m\u001b[0m\u001b[0;34m\u001b[0m\u001b[0m\n",
      "\u001b[0;32m~/miniconda3/envs/optimizer/lib/python3.9/site-packages/IPython/core/magic.py\u001b[0m in \u001b[0;36m<lambda>\u001b[0;34m(f, *a, **k)\u001b[0m\n\u001b[1;32m    185\u001b[0m     \u001b[0;31m# but it's overkill for just that one bit of state.\u001b[0m\u001b[0;34m\u001b[0m\u001b[0;34m\u001b[0m\u001b[0;34m\u001b[0m\u001b[0m\n\u001b[1;32m    186\u001b[0m     \u001b[0;32mdef\u001b[0m \u001b[0mmagic_deco\u001b[0m\u001b[0;34m(\u001b[0m\u001b[0marg\u001b[0m\u001b[0;34m)\u001b[0m\u001b[0;34m:\u001b[0m\u001b[0;34m\u001b[0m\u001b[0;34m\u001b[0m\u001b[0m\n\u001b[0;32m--> 187\u001b[0;31m         \u001b[0mcall\u001b[0m \u001b[0;34m=\u001b[0m \u001b[0;32mlambda\u001b[0m \u001b[0mf\u001b[0m\u001b[0;34m,\u001b[0m \u001b[0;34m*\u001b[0m\u001b[0ma\u001b[0m\u001b[0;34m,\u001b[0m \u001b[0;34m**\u001b[0m\u001b[0mk\u001b[0m\u001b[0;34m:\u001b[0m \u001b[0mf\u001b[0m\u001b[0;34m(\u001b[0m\u001b[0;34m*\u001b[0m\u001b[0ma\u001b[0m\u001b[0;34m,\u001b[0m \u001b[0;34m**\u001b[0m\u001b[0mk\u001b[0m\u001b[0;34m)\u001b[0m\u001b[0;34m\u001b[0m\u001b[0;34m\u001b[0m\u001b[0m\n\u001b[0m\u001b[1;32m    188\u001b[0m \u001b[0;34m\u001b[0m\u001b[0m\n\u001b[1;32m    189\u001b[0m         \u001b[0;32mif\u001b[0m \u001b[0mcallable\u001b[0m\u001b[0;34m(\u001b[0m\u001b[0marg\u001b[0m\u001b[0;34m)\u001b[0m\u001b[0;34m:\u001b[0m\u001b[0;34m\u001b[0m\u001b[0;34m\u001b[0m\u001b[0m\n",
      "\u001b[0;32m~/miniconda3/envs/optimizer/lib/python3.9/site-packages/IPython/core/magics/execution.py\u001b[0m in \u001b[0;36mtimeit\u001b[0;34m(self, line, cell, local_ns)\u001b[0m\n\u001b[1;32m   1167\u001b[0m             \u001b[0;32mfor\u001b[0m \u001b[0mindex\u001b[0m \u001b[0;32min\u001b[0m \u001b[0mrange\u001b[0m\u001b[0;34m(\u001b[0m\u001b[0;36m0\u001b[0m\u001b[0;34m,\u001b[0m \u001b[0;36m10\u001b[0m\u001b[0;34m)\u001b[0m\u001b[0;34m:\u001b[0m\u001b[0;34m\u001b[0m\u001b[0;34m\u001b[0m\u001b[0m\n\u001b[1;32m   1168\u001b[0m                 \u001b[0mnumber\u001b[0m \u001b[0;34m=\u001b[0m \u001b[0;36m10\u001b[0m \u001b[0;34m**\u001b[0m \u001b[0mindex\u001b[0m\u001b[0;34m\u001b[0m\u001b[0;34m\u001b[0m\u001b[0m\n\u001b[0;32m-> 1169\u001b[0;31m                 \u001b[0mtime_number\u001b[0m \u001b[0;34m=\u001b[0m \u001b[0mtimer\u001b[0m\u001b[0;34m.\u001b[0m\u001b[0mtimeit\u001b[0m\u001b[0;34m(\u001b[0m\u001b[0mnumber\u001b[0m\u001b[0;34m)\u001b[0m\u001b[0;34m\u001b[0m\u001b[0;34m\u001b[0m\u001b[0m\n\u001b[0m\u001b[1;32m   1170\u001b[0m                 \u001b[0;32mif\u001b[0m \u001b[0mtime_number\u001b[0m \u001b[0;34m>=\u001b[0m \u001b[0;36m0.2\u001b[0m\u001b[0;34m:\u001b[0m\u001b[0;34m\u001b[0m\u001b[0;34m\u001b[0m\u001b[0m\n\u001b[1;32m   1171\u001b[0m                     \u001b[0;32mbreak\u001b[0m\u001b[0;34m\u001b[0m\u001b[0;34m\u001b[0m\u001b[0m\n",
      "\u001b[0;32m~/miniconda3/envs/optimizer/lib/python3.9/site-packages/IPython/core/magics/execution.py\u001b[0m in \u001b[0;36mtimeit\u001b[0;34m(self, number)\u001b[0m\n\u001b[1;32m    167\u001b[0m         \u001b[0mgc\u001b[0m\u001b[0;34m.\u001b[0m\u001b[0mdisable\u001b[0m\u001b[0;34m(\u001b[0m\u001b[0;34m)\u001b[0m\u001b[0;34m\u001b[0m\u001b[0;34m\u001b[0m\u001b[0m\n\u001b[1;32m    168\u001b[0m         \u001b[0;32mtry\u001b[0m\u001b[0;34m:\u001b[0m\u001b[0;34m\u001b[0m\u001b[0;34m\u001b[0m\u001b[0m\n\u001b[0;32m--> 169\u001b[0;31m             \u001b[0mtiming\u001b[0m \u001b[0;34m=\u001b[0m \u001b[0mself\u001b[0m\u001b[0;34m.\u001b[0m\u001b[0minner\u001b[0m\u001b[0;34m(\u001b[0m\u001b[0mit\u001b[0m\u001b[0;34m,\u001b[0m \u001b[0mself\u001b[0m\u001b[0;34m.\u001b[0m\u001b[0mtimer\u001b[0m\u001b[0;34m)\u001b[0m\u001b[0;34m\u001b[0m\u001b[0;34m\u001b[0m\u001b[0m\n\u001b[0m\u001b[1;32m    170\u001b[0m         \u001b[0;32mfinally\u001b[0m\u001b[0;34m:\u001b[0m\u001b[0;34m\u001b[0m\u001b[0;34m\u001b[0m\u001b[0m\n\u001b[1;32m    171\u001b[0m             \u001b[0;32mif\u001b[0m \u001b[0mgcold\u001b[0m\u001b[0;34m:\u001b[0m\u001b[0;34m\u001b[0m\u001b[0;34m\u001b[0m\u001b[0m\n",
      "\u001b[0;32m<magic-timeit>\u001b[0m in \u001b[0;36minner\u001b[0;34m(_it, _timer)\u001b[0m\n",
      "\u001b[0;32m<ipython-input-116-4d1b1d615b63>\u001b[0m in \u001b[0;36mcalculate_curvature_vector\u001b[0;34m(wx, wy)\u001b[0m\n\u001b[1;32m      3\u001b[0m \u001b[0;32mdef\u001b[0m \u001b[0mcalculate_curvature_vector\u001b[0m\u001b[0;34m(\u001b[0m\u001b[0mwx\u001b[0m\u001b[0;34m,\u001b[0m \u001b[0mwy\u001b[0m\u001b[0;34m)\u001b[0m\u001b[0;34m:\u001b[0m\u001b[0;34m\u001b[0m\u001b[0;34m\u001b[0m\u001b[0m\n\u001b[1;32m      4\u001b[0m \u001b[0;34m\u001b[0m\u001b[0m\n\u001b[0;32m----> 5\u001b[0;31m     \u001b[0mx\u001b[0m\u001b[0;34m,\u001b[0m \u001b[0my\u001b[0m \u001b[0;34m=\u001b[0m \u001b[0mgenerate_cubic_path\u001b[0m\u001b[0;34m(\u001b[0m\u001b[0mwx\u001b[0m\u001b[0;34m,\u001b[0m \u001b[0mwy\u001b[0m\u001b[0;34m,\u001b[0m \u001b[0;36m0.1\u001b[0m\u001b[0;34m)\u001b[0m\u001b[0;34m\u001b[0m\u001b[0;34m\u001b[0m\u001b[0m\n\u001b[0m\u001b[1;32m      6\u001b[0m     \u001b[0mdp\u001b[0m \u001b[0;34m=\u001b[0m \u001b[0msolve_1st_derivative\u001b[0m\u001b[0;34m(\u001b[0m\u001b[0mx\u001b[0m\u001b[0;34m,\u001b[0m \u001b[0my\u001b[0m\u001b[0;34m)\u001b[0m\u001b[0;34m\u001b[0m\u001b[0;34m\u001b[0m\u001b[0m\n\u001b[1;32m      7\u001b[0m     \u001b[0mdelta_s\u001b[0m \u001b[0;34m=\u001b[0m \u001b[0mnp\u001b[0m\u001b[0;34m.\u001b[0m\u001b[0mhypot\u001b[0m\u001b[0;34m(\u001b[0m\u001b[0mdp\u001b[0m\u001b[0;34m[\u001b[0m\u001b[0;36m0\u001b[0m\u001b[0;34m]\u001b[0m\u001b[0;34m,\u001b[0m \u001b[0mdp\u001b[0m\u001b[0;34m[\u001b[0m\u001b[0;36m1\u001b[0m\u001b[0;34m]\u001b[0m\u001b[0;34m)\u001b[0m\u001b[0;34m\u001b[0m\u001b[0;34m\u001b[0m\u001b[0m\n",
      "\u001b[0;31mValueError\u001b[0m: too many values to unpack (expected 2)"
     ]
    }
   ],
   "metadata": {}
  },
  {
   "cell_type": "code",
   "execution_count": null,
   "source": [
    "print(\"\\nVector test:\\n{} \\n{}\".format(t_vector, k_vector))\n",
    "print(\"\\nSpline test:\\n{} \\n{}\".format(t_spline, k_spline))\n",
    "print(\"\\nDefault test:\\n{} \\n{}\".format(t_default, k_default))"
   ],
   "outputs": [
    {
     "output_type": "stream",
     "name": "stdout",
     "text": [
      "\n",
      "Vector test:\n",
      "303 µs ± 9.35 µs per loop (mean ± std. dev. of 7 runs, 1000 loops each) \n",
      "[0.0071794594466529195, 0.014371994374315682, 0.02159222183660794, 0.02885455210393894, 0.03617306962996375, 0.04356140358782242, 0.051032584220446806, 0.05859888145617443, 0.06627162217067649, 0.0740609827063314, 0.08197575349652425, 0.09002307307734701, 0.09820812928166156, 0.10653382647688614, 0.11500041866865367, 0.12360511011479197, 0.13234162690684484, 0.1411997657250691, 0.15016492890792035, 0.1592176586500857, 0.1683331872715193, 0.17748102486675127, 0.18662461041236192, 0.19572105663850892, 0.20472102308176826, 0.21356875410376006, 0.22220231987258038, 0.22953208163330524, 0.22674894103707435, 0.21825502826466547]\n",
      "\n",
      "Spline test:\n",
      "11.9 ms ± 204 µs per loop (mean ± std. dev. of 7 runs, 100 loops each) \n",
      "[-1.037259719017142e-16, 0.007179460134010003, 0.01437363303432191, 0.021597122355828228, 0.028864309868369735, 0.036189235354098834, 0.04358546550513043, 0.05106594815776471, 0.05864284823360333, 0.06632736184122506, 0.07412950515381349, 0.08205787495466292, 0.09011937817797741, 0.09831892841865345, 0.10665910830055914, 0.1151397978420971, 0.1237577706062772, 0.13250626153231723, 0.1413745129677447, 0.1503473085826773, 0.15940450854373664, 0.16852060349292375, 0.17766430938317507, 0.18679822984136676, 0.19587861712583787, 0.20485526646376068, 0.21367158102072314, 0.22226484530068266, 0.23056674267853103, 0.22676017772821142]\n",
      "\n",
      "Default test:\n",
      "284 µs ± 11.7 µs per loop (mean ± std. dev. of 7 runs, 1000 loops each) \n",
      "[0.007177823174940971, 0.014365463295483785, 0.021577580571132973, 0.028828659246152084, 0.03613289105524944, 0.04350404929666192, 0.050955349762388434, 0.05849929496170193, 0.06614749798621022, 0.07391048256766511, 0.08179745607704472, 0.0898160525941101, 0.09797204362180764, 0.10626901499415475, 0.1147080093841126, 0.12328713550703205, 0.13200114678857777, 0.14084099485089327, 0.14979336594613635, 0.1588402119831941, 0.16795829179190128, 0.1771187425633908, 0.18628670617290466, 0.1954210394495773, 0.20447414184065513, 0.21339193675922122, 0.222114044794641, 0.2295511394316372, 0.22687360702482492, 0.21846301942841467]\n"
     ]
    }
   ],
   "metadata": {}
  }
 ],
 "metadata": {
  "orig_nbformat": 4,
  "language_info": {
   "mimetype": "text/x-python",
   "nbconvert_exporter": "python",
   "name": "python",
   "pygments_lexer": "ipython3",
   "version": "3.9.5",
   "file_extension": ".py",
   "codemirror_mode": {
    "version": 3,
    "name": "ipython"
   }
  },
  "kernelspec": {
   "name": "python3",
   "display_name": "Python 3.9.5 64-bit ('optimizer': conda)"
  },
  "interpreter": {
   "hash": "57f26ffe740c5f0d472a9f25ed66cf4abb3f98049bb3b97f17b3f14c481ed229"
  }
 },
 "nbformat": 4,
 "nbformat_minor": 2
}