{
 "cells": [
  {
   "cell_type": "code",
   "execution_count": 35,
   "metadata": {},
   "outputs": [
    {
     "name": "stdout",
     "output_type": "stream",
     "text": [
      "The line_profiler extension is already loaded. To reload it, use:\n",
      "  %reload_ext line_profiler\n"
     ]
    }
   ],
   "source": [
    "import pandas as pd\n",
    "import numpy as np\n",
    "import math as m\n",
    "\n",
    "\n",
    "from numba import jit, njit, prange\n",
    "\n",
    "%load_ext line_profiler"
   ]
  },
  {
   "cell_type": "code",
   "execution_count": 91,
   "metadata": {},
   "outputs": [],
   "source": [
    "dir_path = 'data/waypoints.csv'\n",
    "df = pd.read_csv(dir_path)\n",
    "wx = df['y'].values\n",
    "wy = df['x'].values\n",
    "wx = wx[20:50]\n",
    "wy = wy[20:50]"
   ]
  },
  {
   "cell_type": "markdown",
   "metadata": {},
   "source": [
    "# Vectorisation"
   ]
  },
  {
   "cell_type": "code",
   "execution_count": 37,
   "metadata": {},
   "outputs": [],
   "source": [
    "def solve_1st_derivative(x, y):\n",
    "\n",
    "    dx = np.ediff1d(x)\n",
    "    dy = np.ediff1d(y)\n",
    "    dx = np.concatenate((dx, [dx[0]]))\n",
    "    dy = np.concatenate((dy, [dy[0]]))\n",
    "\n",
    "    return dx, dy"
   ]
  },
  {
   "cell_type": "code",
   "execution_count": 38,
   "metadata": {},
   "outputs": [],
   "source": [
    "%%capture\n",
    "\n",
    "def calculate_yaw_vectorised(x, y):\n",
    "\n",
    "    dx, dy = solve_1st_derivative(x, y)\n",
    "        \n",
    "    return np.arctan2(dy, dx)\n",
    "\n",
    "def calculate_yaw_optimised(x, y):\n",
    "\n",
    "    dx, dy = solve_1st_derivative(x, y)\n",
    "\n",
    "    yaw = []\n",
    "\n",
    "    yaw.append(m.atan2(dy[0], dx[0]))\n",
    "\n",
    "    for i in range(1, len(x) - 1):\n",
    "        d0 = np.array([dx[i], dy[i]])\n",
    "        d0_hat = d0/np.linalg.norm(d0)\n",
    "\n",
    "        d1 = np.array([dx[i-1], dy[i-1]])\n",
    "        d1_hat = d1/np.linalg.norm(d1)\n",
    "\n",
    "        d_bisect = d0_hat + d1_hat\n",
    "        \n",
    "        yaw.append(m.atan2(d_bisect[1], d_bisect[0]))\n",
    "\n",
    "    yaw.append(m.atan2(dy[-1], dx[-1]))\n",
    "        \n",
    "    return yaw\n",
    "\n",
    "def calculate_yaw(x, y):\n",
    "\n",
    "    dx, dy = solve_1st_derivative(x, y)\n",
    "\n",
    "    yaw = []\n",
    "\n",
    "    for i in range(0, len(x)):\n",
    "        yaw.append(np.arctan2(dy[i], dx[i]))\n",
    "\n",
    "    return yaw\n",
    "\n",
    "t_vectorised = %timeit -o calculate_yaw_vectorised(wx, wy)\n",
    "t_optimised = %timeit -o calculate_yaw_optimised(wx, wy)\n",
    "t_default = %timeit -o calculate_yaw(wx, wy)"
   ]
  },
  {
   "cell_type": "code",
   "execution_count": 39,
   "metadata": {},
   "outputs": [
    {
     "name": "stdout",
     "output_type": "stream",
     "text": [
      "\n",
      "Vectorised test:\n",
      "7.61 µs ± 34.8 ns per loop (mean ± std. dev. of 7 runs, 100000 loops each)\n",
      "\n",
      "'Optimised' test:\n",
      "345 µs ± 8.87 µs per loop (mean ± std. dev. of 7 runs, 1000 loops each)\n",
      "\n",
      "Default test:\n",
      "52.4 µs ± 1.84 µs per loop (mean ± std. dev. of 7 runs, 10000 loops each)\n"
     ]
    }
   ],
   "source": [
    "print(\"\\nVectorised test:\\n{}\".format(t_vectorised))\n",
    "print(\"\\n'Optimised' test:\\n{}\".format(t_optimised))\n",
    "print(\"\\nDefault test:\\n{}\".format(t_default))"
   ]
  },
  {
   "cell_type": "markdown",
   "metadata": {},
   "source": [
    "# Exponents"
   ]
  },
  {
   "cell_type": "code",
   "execution_count": 40,
   "metadata": {},
   "outputs": [],
   "source": [
    "%%capture\n",
    "\n",
    "def nat_pow(base, exponent):\n",
    "    result = 1.0\n",
    "\n",
    "    for i in range(0, exponent):\n",
    "        result *= base\n",
    "\n",
    "    return result\n",
    "\n",
    "a = 7.6\n",
    "exp = 3\n",
    "t_manual = %timeit -o a*a\n",
    "t_numpy = %timeit -o np.power(a, exp)\n",
    "t_math = %timeit -o m.pow(a, exp)\n",
    "t_optimised = %timeit -o nat_pow(a, exp)\n",
    "t_standard = %timeit -o pow(a, exp)\n",
    "t_default = %timeit -o a**exp"
   ]
  },
  {
   "cell_type": "code",
   "execution_count": 41,
   "metadata": {},
   "outputs": [
    {
     "name": "stdout",
     "output_type": "stream",
     "text": [
      "\n",
      "Manual test:\n",
      "27.9 ns ± 1.27 ns per loop (mean ± std. dev. of 7 runs, 10000000 loops each)\n",
      "\n",
      "Numpy test:\n",
      "1.12 µs ± 7.38 ns per loop (mean ± std. dev. of 7 runs, 1000000 loops each)\n",
      "\n",
      "Math test:\n",
      "101 ns ± 0.503 ns per loop (mean ± std. dev. of 7 runs, 10000000 loops each)\n",
      "\n",
      "'Optimised' test:\n",
      "227 ns ± 3.32 ns per loop (mean ± std. dev. of 7 runs, 1000000 loops each)\n",
      "\n",
      "Standard test:\n",
      "81.4 ns ± 0.704 ns per loop (mean ± std. dev. of 7 runs, 10000000 loops each)\n",
      "\n",
      "Default test:\n",
      "62 ns ± 0.203 ns per loop (mean ± std. dev. of 7 runs, 10000000 loops each)\n"
     ]
    }
   ],
   "source": [
    "print(\"\\nManual test:\\n{}\".format(t_manual))\n",
    "print(\"\\nNumpy test:\\n{}\".format(t_numpy))\n",
    "print(\"\\nMath test:\\n{}\".format(t_math))\n",
    "print(\"\\n'Optimised' test:\\n{}\".format(t_optimised))\n",
    "print(\"\\nStandard test:\\n{}\".format(t_standard))\n",
    "print(\"\\nDefault test:\\n{}\".format(t_default))"
   ]
  },
  {
   "cell_type": "markdown",
   "metadata": {},
   "source": [
    "# Path Curvature"
   ]
  },
  {
   "cell_type": "code",
   "execution_count": 42,
   "metadata": {},
   "outputs": [],
   "source": [
    "%%capture\n",
    "\n",
    "from libs.cubic_spline_interpolator import calculate_spline_curvature, generate_cubic_path\n",
    "\n",
    "def calculate_curvature_vector(wx, wy, ds):\n",
    "\n",
    "    x, y = generate_cubic_path(wx, wy, ds)\n",
    "    dp = solve_1st_derivative(x, y)\n",
    "    delta_s = np.hypot(dp[0], dp[1])\n",
    "    u_i = dp / delta_s\n",
    "\n",
    "    du = solve_1st_derivative(u_i[0], u_i[1])\n",
    "    abs_du = np.hypot(du[0], du[1])\n",
    "    k_i = abs_du / delta_s\n",
    "\n",
    "    return k_i\n",
    "\n",
    "def calculate_curvature(wx, wy, ds):\n",
    "\n",
    "    x, y = generate_cubic_path(wx, wy, ds)\n",
    "    dx, dy = solve_1st_derivative(x, y)\n",
    "    ddx, ddy = solve_1st_derivative(dx, dy)\n",
    "\n",
    "    return (ddy*dx - ddx*dy) / ((dx*dx + dy*dy)**1.5)\n",
    "\n",
    "ds = 1.0\n",
    "\n",
    "t_vector = %timeit -o calculate_curvature_vector(wx, wy, ds)\n",
    "r_vector = (1 / calculate_curvature_vector(wx, wy, ds)).tolist()[:10]\n",
    "\n",
    "t_spline = %timeit -o calculate_spline_curvature(wx, wy, ds)\n",
    "r_spline = (1 / np.array(calculate_spline_curvature(wx, wy, ds))).tolist()[:10]\n",
    "\n",
    "t_default = %timeit -o calculate_curvature(wx, wy, ds)\n",
    "r_default = (1 / calculate_curvature(wx, wy, ds)).tolist()[:10]"
   ]
  },
  {
   "cell_type": "code",
   "execution_count": 43,
   "metadata": {},
   "outputs": [
    {
     "name": "stdout",
     "output_type": "stream",
     "text": [
      "\n",
      "Vector test:\n",
      "600 µs ± 5.15 µs per loop (mean ± std. dev. of 7 runs, 1000 loops each) \n",
      "[13.504176855476265, 6.3489550257814615, 4.951128048443533, 7.566267434586032, 18.371708777829113, 40.017861005926726, 15.867688114356195, 9.391545229469617, 9.864821440218503, 18.1204985021757]\n",
      "\n",
      "Spline test:\n",
      "761 µs ± 15.4 µs per loop (mean ± std. dev. of 7 runs, 1000 loops each) \n",
      "[-1.036692339042675e+16, 13.489905239824152, 6.273348283154895, 4.583746334950832, 7.691486743511906, 18.825165073486, 52.42479601800344, 15.78212714221633, 9.109764520574096, 9.77077257041433]\n",
      "\n",
      "Default test:\n",
      "593 µs ± 3.17 µs per loop (mean ± std. dev. of 7 runs, 1000 loops each) \n",
      "[13.778153793742078, 6.505713159974447, 4.937286760627668, 7.4139258953556615, 18.24968043695906, 40.45969693406867, 16.080061487876694, 9.451627047904548, 9.805865024357892, 17.979095861755038]\n"
     ]
    }
   ],
   "source": [
    "print(\"\\nVector test:\\n{} \\n{}\".format(t_vector, r_vector))\n",
    "print(\"\\nSpline test:\\n{} \\n{}\".format(t_spline, r_spline))\n",
    "print(\"\\nDefault test:\\n{} \\n{}\".format(t_default, r_default))"
   ]
  },
  {
   "cell_type": "markdown",
   "metadata": {},
   "source": [
    "# Prepending"
   ]
  },
  {
   "cell_type": "code",
   "execution_count": 44,
   "metadata": {},
   "outputs": [],
   "source": [
    "%%capture\n",
    "\n",
    "def solve_1st_derivative_insert(x, y):\n",
    "\n",
    "    dx = np.ediff1d(x)\n",
    "    dy = np.ediff1d(y)\n",
    "    dx = np.insert(dx, 0, dx[-1])\n",
    "    dy = np.insert(dy, 0, dy[-1])\n",
    "\n",
    "    return dx, dy\n",
    "\n",
    "def solve_1st_derivative_concat(x, y):\n",
    "\n",
    "    dx = np.ediff1d(x)\n",
    "    dy = np.ediff1d(y)\n",
    "    dx = np.concatenate((dx, [dx[-1]]))\n",
    "    dy = np.concatenate((dy, [dy[-1]]))\n",
    "\n",
    "    return dx, dy\n",
    "\n",
    "t_insert = %timeit -o solve_1st_derivative_insert(wx, wy)\n",
    "d = solve_1st_derivative_insert(wx, wy)\n",
    "d_insert = d[0][:5]\n",
    "\n",
    "t_concat = %timeit -o solve_1st_derivative_concat(wx, wy)\n",
    "d = solve_1st_derivative_concat(wx, wy)\n",
    "d_concat = d[0][:5]"
   ]
  },
  {
   "cell_type": "code",
   "execution_count": 45,
   "metadata": {},
   "outputs": [
    {
     "name": "stdout",
     "output_type": "stream",
     "text": [
      "\n",
      "Insert test:\n",
      "25.5 µs ± 724 ns per loop (mean ± std. dev. of 7 runs, 10000 loops each)\n",
      "[8.0661     2.15463259 1.21198083 0.73237982 0.06881949]\n",
      "\n",
      "Concatenate test:\n",
      "6.33 µs ± 28.6 ns per loop (mean ± std. dev. of 7 runs, 100000 loops each)\n",
      "[2.15463259 1.21198083 0.73237982 0.06881949 0.05440933]\n"
     ]
    }
   ],
   "source": [
    "print(\"\\nInsert test:\\n{}\\n{}\".format(t_insert, d_insert))\n",
    "print(\"\\nConcatenate test:\\n{}\\n{}\".format(t_concat, d_concat))"
   ]
  },
  {
   "cell_type": "markdown",
   "metadata": {},
   "source": [
    "# Tuple"
   ]
  },
  {
   "cell_type": "code",
   "execution_count": 46,
   "metadata": {},
   "outputs": [],
   "source": [
    "%%capture\n",
    "\n",
    "def calculate_curvature_vector(wx, wy):\n",
    "\n",
    "    dp = solve_1st_derivative(wx, wy)\n",
    "    delta_s = np.hypot(dp[0], dp[1])\n",
    "    u_i = dp / delta_s\n",
    "\n",
    "    du = solve_1st_derivative(u_i[0], u_i[1])\n",
    "    abs_du = np.hypot(du[0], du[1])\n",
    "    k_i = abs_du / delta_s\n",
    "\n",
    "    return k_i\n",
    "\n",
    "def calculate_curvature_vector_tuple(wx, wy):\n",
    "\n",
    "    dp_x, dp_y = solve_1st_derivative(wx, wy)\n",
    "    delta_s = np.hypot(dp_x, dp_y)\n",
    "    u_i_x = dp_x / delta_s\n",
    "    u_i_y = dp_y / delta_s\n",
    "\n",
    "    du_x, du_y = solve_1st_derivative(u_i_x, u_i_y)\n",
    "    abs_du = np.hypot(du_x, du_y)\n",
    "    k_i = abs_du / delta_s\n",
    "\n",
    "    return k_i\n",
    "\n",
    "t_tuple = %timeit -o calculate_curvature_vector_tuple(wx, wy)\n",
    "t_default = %timeit -o calculate_curvature_vector(wx, wy)"
   ]
  },
  {
   "cell_type": "code",
   "execution_count": 47,
   "metadata": {},
   "outputs": [
    {
     "name": "stdout",
     "output_type": "stream",
     "text": [
      "\n",
      "Tuple test:\n",
      "17.2 µs ± 119 ns per loop (mean ± std. dev. of 7 runs, 100000 loops each)\n",
      "\n",
      "Default test:\n",
      "18.7 µs ± 619 ns per loop (mean ± std. dev. of 7 runs, 100000 loops each)\n"
     ]
    }
   ],
   "source": [
    "print(\"\\nTuple test:\\n{}\".format(t_tuple))\n",
    "print(\"\\nDefault test:\\n{}\".format(t_default))"
   ]
  },
  {
   "cell_type": "code",
   "execution_count": 48,
   "metadata": {},
   "outputs": [],
   "source": [
    "%%capture\n",
    "\n",
    "def solve_1st_derivative_concat_tuple(s):\n",
    "\n",
    "    ds = np.diff(s)\n",
    "    ds = np.concatenate((ds, [ds[-1]]))\n",
    "\n",
    "    return ds\n",
    "\n",
    "t_tuple = %timeit -o solve_1st_derivative_concat_tuple((wx, wy))\n",
    "d_tuple = solve_1st_derivative_concat_tuple((wx, wy))\n",
    "\n",
    "t_default = %timeit -o solve_1st_derivative_concat(wx, wy)\n",
    "d_default = solve_1st_derivative(wx, wy)"
   ]
  },
  {
   "cell_type": "code",
   "execution_count": 49,
   "metadata": {},
   "outputs": [
    {
     "name": "stdout",
     "output_type": "stream",
     "text": [
      "\n",
      "Tuple test:\n",
      "7.51 µs ± 175 ns per loop (mean ± std. dev. of 7 runs, 100000 loops each)\n",
      "[[ 2.15463259  1.21198083  0.73237982  0.06881949  0.05440933 -0.03501278\n",
      "  -0.28010224 -0.42015336  0.24518732  0.86481566  1.1658277   1.92570288\n",
      "   1.78565176  2.26990153  2.66960401  3.66488103  3.47810295  7.44988714\n",
      "   2.41022589  2.55862621  3.55514378  4.22846647  6.22150162  7.28912207\n",
      "   7.6798462   7.4389      7.0931      7.9987      8.0661    ]\n",
      " [ 1.83143771  2.58555911  2.65531525  3.45369463  3.98562497  2.80102237\n",
      "   2.5909457   2.62595847  2.82893839  2.50341375  1.6702038   1.50554953\n",
      "   1.36549841  1.50321534  1.85624033  2.50516538  2.34855563  4.70054412\n",
      "   1.30463004  0.7271885   0.61945687  0.43092652  0.70025559  0.76920384\n",
      "   1.03028681  0.845       0.7592      0.8385      0.8935    ]\n",
      " [ 1.83143771  2.58555911  2.65531525  3.45369463  3.98562497  2.80102237\n",
      "   2.5909457   2.62595847  2.82893839  2.50341375  1.6702038   1.50554953\n",
      "   1.36549841  1.50321534  1.85624033  2.50516538  2.34855563  4.70054412\n",
      "   1.30463004  0.7271885   0.61945687  0.43092652  0.70025559  0.76920384\n",
      "   1.03028681  0.845       0.7592      0.8385      0.8935    ]]\n",
      "\n",
      "Default test:\n",
      "6.33 µs ± 167 ns per loop (mean ± std. dev. of 7 runs, 100000 loops each)\n",
      "(array([ 2.15463259,  1.21198083,  0.73237982,  0.06881949,  0.05440933,\n",
      "       -0.03501278, -0.28010224, -0.42015336,  0.24518732,  0.86481566,\n",
      "        1.1658277 ,  1.92570288,  1.78565176,  2.26990153,  2.66960401,\n",
      "        3.66488103,  3.47810295,  7.44988714,  2.41022589,  2.55862621,\n",
      "        3.55514378,  4.22846647,  6.22150162,  7.28912207,  7.6798462 ,\n",
      "        7.4389    ,  7.0931    ,  7.9987    ,  8.0661    ,  2.15463259]), array([1.83143771, 2.58555911, 2.65531525, 3.45369463, 3.98562497,\n",
      "       2.80102237, 2.5909457 , 2.62595847, 2.82893839, 2.50341375,\n",
      "       1.6702038 , 1.50554953, 1.36549841, 1.50321534, 1.85624033,\n",
      "       2.50516538, 2.34855563, 4.70054412, 1.30463004, 0.7271885 ,\n",
      "       0.61945687, 0.43092652, 0.70025559, 0.76920384, 1.03028681,\n",
      "       0.845     , 0.7592    , 0.8385    , 0.8935    , 1.83143771]))\n"
     ]
    }
   ],
   "source": [
    "print(\"\\nTuple test:\\n{}\\n{}\".format(t_tuple, d_tuple))\n",
    "print(\"\\nDefault test:\\n{}\\n{}\".format(t_default, d_default))"
   ]
  },
  {
   "cell_type": "markdown",
   "metadata": {},
   "source": [
    "# Concatenation"
   ]
  },
  {
   "cell_type": "code",
   "execution_count": 50,
   "metadata": {},
   "outputs": [
    {
     "name": "stdout",
     "output_type": "stream",
     "text": [
      "2.22 µs ± 40.9 ns per loop (mean ± std. dev. of 7 runs, 100000 loops each)\n",
      "2.18 µs ± 32.2 ns per loop (mean ± std. dev. of 7 runs, 100000 loops each)\n",
      "2.43 µs ± 15.6 ns per loop (mean ± std. dev. of 7 runs, 100000 loops each)\n"
     ]
    }
   ],
   "source": [
    "t_list = %timeit -o np.concatenate(([0], np.hypot(wx, wy)))\n",
    "t_zeros = %timeit -o np.concatenate((np.zeros(1), np.hypot(wx, wy)))\n",
    "t_array = %timeit -o np.concatenate((np.array([0]), np.hypot(wx, wy)))"
   ]
  },
  {
   "cell_type": "code",
   "execution_count": 51,
   "metadata": {},
   "outputs": [
    {
     "name": "stdout",
     "output_type": "stream",
     "text": [
      "\n",
      " List test:\n",
      " 2.22 µs ± 40.9 ns per loop (mean ± std. dev. of 7 runs, 100000 loops each)\n",
      "\n",
      " Zeros test:\n",
      " 2.18 µs ± 32.2 ns per loop (mean ± std. dev. of 7 runs, 100000 loops each)\n",
      "\n",
      " Array test:\n",
      " 2.43 µs ± 15.6 ns per loop (mean ± std. dev. of 7 runs, 100000 loops each)\n"
     ]
    }
   ],
   "source": [
    "print(f\"\\n List test:\\n {t_list}\")\n",
    "print(f\"\\n Zeros test:\\n {t_zeros}\")\n",
    "print(f\"\\n Array test:\\n {t_array}\")"
   ]
  },
  {
   "cell_type": "markdown",
   "metadata": {},
   "source": [
    "# Numba"
   ]
  },
  {
   "cell_type": "code",
   "execution_count": 95,
   "metadata": {},
   "outputs": [
    {
     "name": "stdout",
     "output_type": "stream",
     "text": [
      "\n",
      "SciPy cDist test:\n",
      " 116\n",
      "\n",
      "SciPy cKDTree test:\n",
      " (0.0, 116)\n",
      "\n",
      "Numba test:\n",
      " (0.0, 116, array([ 210.14658111,  209.42549929,  208.49604524,  206.98780242,\n",
      "        205.04099214,  203.24439082,  201.6769859 ,  199.50163568,\n",
      "        193.03733205,  185.66364065,  178.65302291,  171.91731772,\n",
      "        165.37570023,  158.35210833,  151.001911  ,  144.11392966,\n",
      "        137.15124562,  130.21235795,  122.85681395,  117.88639974,\n",
      "        115.27264119,  113.1180086 ,  111.90602776,  111.17364795,\n",
      "        111.10482845,  111.05041912,  111.0854319 ,  111.36553414,\n",
      "        111.7856875 ,  111.54050018,  110.67568452,  109.50985682,\n",
      "        107.58415394,  105.79850217,  103.52860064,  100.85899664,\n",
      "         97.19411561,   93.71601266,   86.26612551,   83.85589963,\n",
      "         81.29727342,   77.74212964,   73.51366317,   67.29216155,\n",
      "         60.00303949,   52.32319329,   44.88429329,   37.79119329,\n",
      "         29.79249329,   21.72639329,   15.93169329,    7.83189329,\n",
      "          0.38779329,   -6.76160671,  -17.57229449,  -25.24189341,\n",
      "        -27.67878288,  -30.23471579,  -32.65059759,  -35.13650494,\n",
      "        -37.86750176,  -45.08013437,  -51.36340671,  -57.01980671,\n",
      "        -62.64040671,  -67.76500671,  -73.78620671,  -79.40524188,\n",
      "        -85.02654365,  -89.76027146,  -93.19222412,  -94.95108937,\n",
      "        -95.92067404,  -96.79332063,  -97.56710306,  -98.26532792,\n",
      "        -98.88071253,  -99.67445225, -100.45550656, -101.18269506,\n",
      "       -101.95269835, -103.78508301, -104.51227151, -105.21252711,\n",
      "       -106.07438015, -106.88236737, -107.53426511, -108.22901274,\n",
      "       -108.76352736, -109.95152753, -110.71098375, -111.41538287,\n",
      "       -112.26480533, -112.98992207, -114.05417903, -114.4610449 ,\n",
      "       -114.59543852, -113.18936337, -110.75211263, -107.51208386,\n",
      "       -103.02474632,  -98.36328157,  -94.42693356,  -87.88512353,\n",
      "        -79.09563607,  -71.93587275,  -64.71693784,  -57.61634613,\n",
      "        -50.45658281,  -43.2376479 ,  -36.25539938,  -29.50983725,\n",
      "        -21.75835796,  -15.19031062,   -8.62226329,   -4.14201183,\n",
      "          0.        ]), array([-159.04959335, -157.64222731, -156.3428489 , -155.46173678,\n",
      "       -155.2450722 , -155.52376207, -156.06462163, -156.83117361,\n",
      "       -159.22033165, -162.08787831, -164.82208234, -167.66181587,\n",
      "       -170.12493976, -172.62127755, -175.38340156, -177.84679234,\n",
      "       -180.37499489, -182.81721388, -185.26900092, -187.04414885,\n",
      "       -188.1623175 , -189.99375521, -192.57931432, -195.23462957,\n",
      "       -198.6883242 , -202.67394917, -205.47497154, -208.06591724,\n",
      "       -210.69187571, -213.5208141 , -216.02422785, -217.69443165,\n",
      "       -219.19998117, -220.56547958, -222.06869492, -223.92493525,\n",
      "       -226.43010063, -228.77865626, -233.47920038, -234.78383042,\n",
      "       -235.51101892, -236.13047579, -236.56140231, -237.2616579 ,\n",
      "       -238.03086174, -239.06114855, -239.90614855, -240.66534855,\n",
      "       -241.50384855, -242.39734855, -243.00214855, -243.87594855,\n",
      "       -244.69794855, -245.49154855, -246.85366418, -247.61904641,\n",
      "       -247.7461428 , -247.64110447, -247.11591277, -245.99550382,\n",
      "       -244.24486484, -238.67783287, -233.55434855, -228.72564855,\n",
      "       -224.00474855, -219.66834855, -214.58794855, -210.13842612,\n",
      "       -205.40469831, -201.73605925, -197.83073381, -194.11412918,\n",
      "       -189.45473619, -182.30172731, -174.79148607, -166.98993851,\n",
      "       -159.98993851, -152.23984895, -145.18342721, -137.85767638,\n",
      "       -131.17883774, -116.57428868, -108.41361772, -101.4379947 ,\n",
      "        -93.73518317,  -86.27476781,  -79.29032285,  -72.13499141,\n",
      "        -67.28499631,  -57.38552954,  -50.77305229,  -43.62547301,\n",
      "        -36.31215276,  -29.37174969,  -22.46224528,  -17.8280046 ,\n",
      "        -13.33018834,  -10.07262307,   -8.04514392,   -7.35108289,\n",
      "         -6.87241317,   -6.49949599,   -6.27160216,   -5.79641428,\n",
      "         -5.2176822 ,   -4.80348101,   -4.38927983,   -3.79756385,\n",
      "         -3.32419107,   -2.90998989,   -2.5549603 ,   -2.14075912,\n",
      "         -1.72655793,   -1.25318515,   -0.66146918,   -0.41420118,\n",
      "          0.        ]))\n",
      "\n",
      "Numpy test:\n",
      " (0.0, 116, array([ 210.14658111,  209.42549929,  208.49604524,  206.98780242,\n",
      "        205.04099214,  203.24439082,  201.6769859 ,  199.50163568,\n",
      "        193.03733205,  185.66364065,  178.65302291,  171.91731772,\n",
      "        165.37570023,  158.35210833,  151.001911  ,  144.11392966,\n",
      "        137.15124562,  130.21235795,  122.85681395,  117.88639974,\n",
      "        115.27264119,  113.1180086 ,  111.90602776,  111.17364795,\n",
      "        111.10482845,  111.05041912,  111.0854319 ,  111.36553414,\n",
      "        111.7856875 ,  111.54050018,  110.67568452,  109.50985682,\n",
      "        107.58415394,  105.79850217,  103.52860064,  100.85899664,\n",
      "         97.19411561,   93.71601266,   86.26612551,   83.85589963,\n",
      "         81.29727342,   77.74212964,   73.51366317,   67.29216155,\n",
      "         60.00303949,   52.32319329,   44.88429329,   37.79119329,\n",
      "         29.79249329,   21.72639329,   15.93169329,    7.83189329,\n",
      "          0.38779329,   -6.76160671,  -17.57229449,  -25.24189341,\n",
      "        -27.67878288,  -30.23471579,  -32.65059759,  -35.13650494,\n",
      "        -37.86750176,  -45.08013437,  -51.36340671,  -57.01980671,\n",
      "        -62.64040671,  -67.76500671,  -73.78620671,  -79.40524188,\n",
      "        -85.02654365,  -89.76027146,  -93.19222412,  -94.95108937,\n",
      "        -95.92067404,  -96.79332063,  -97.56710306,  -98.26532792,\n",
      "        -98.88071253,  -99.67445225, -100.45550656, -101.18269506,\n",
      "       -101.95269835, -103.78508301, -104.51227151, -105.21252711,\n",
      "       -106.07438015, -106.88236737, -107.53426511, -108.22901274,\n",
      "       -108.76352736, -109.95152753, -110.71098375, -111.41538287,\n",
      "       -112.26480533, -112.98992207, -114.05417903, -114.4610449 ,\n",
      "       -114.59543852, -113.18936337, -110.75211263, -107.51208386,\n",
      "       -103.02474632,  -98.36328157,  -94.42693356,  -87.88512353,\n",
      "        -79.09563607,  -71.93587275,  -64.71693784,  -57.61634613,\n",
      "        -50.45658281,  -43.2376479 ,  -36.25539938,  -29.50983725,\n",
      "        -21.75835796,  -15.19031062,   -8.62226329,   -4.14201183,\n",
      "          0.        ]), array([-159.04959335, -157.64222731, -156.3428489 , -155.46173678,\n",
      "       -155.2450722 , -155.52376207, -156.06462163, -156.83117361,\n",
      "       -159.22033165, -162.08787831, -164.82208234, -167.66181587,\n",
      "       -170.12493976, -172.62127755, -175.38340156, -177.84679234,\n",
      "       -180.37499489, -182.81721388, -185.26900092, -187.04414885,\n",
      "       -188.1623175 , -189.99375521, -192.57931432, -195.23462957,\n",
      "       -198.6883242 , -202.67394917, -205.47497154, -208.06591724,\n",
      "       -210.69187571, -213.5208141 , -216.02422785, -217.69443165,\n",
      "       -219.19998117, -220.56547958, -222.06869492, -223.92493525,\n",
      "       -226.43010063, -228.77865626, -233.47920038, -234.78383042,\n",
      "       -235.51101892, -236.13047579, -236.56140231, -237.2616579 ,\n",
      "       -238.03086174, -239.06114855, -239.90614855, -240.66534855,\n",
      "       -241.50384855, -242.39734855, -243.00214855, -243.87594855,\n",
      "       -244.69794855, -245.49154855, -246.85366418, -247.61904641,\n",
      "       -247.7461428 , -247.64110447, -247.11591277, -245.99550382,\n",
      "       -244.24486484, -238.67783287, -233.55434855, -228.72564855,\n",
      "       -224.00474855, -219.66834855, -214.58794855, -210.13842612,\n",
      "       -205.40469831, -201.73605925, -197.83073381, -194.11412918,\n",
      "       -189.45473619, -182.30172731, -174.79148607, -166.98993851,\n",
      "       -159.98993851, -152.23984895, -145.18342721, -137.85767638,\n",
      "       -131.17883774, -116.57428868, -108.41361772, -101.4379947 ,\n",
      "        -93.73518317,  -86.27476781,  -79.29032285,  -72.13499141,\n",
      "        -67.28499631,  -57.38552954,  -50.77305229,  -43.62547301,\n",
      "        -36.31215276,  -29.37174969,  -22.46224528,  -17.8280046 ,\n",
      "        -13.33018834,  -10.07262307,   -8.04514392,   -7.35108289,\n",
      "         -6.87241317,   -6.49949599,   -6.27160216,   -5.79641428,\n",
      "         -5.2176822 ,   -4.80348101,   -4.38927983,   -3.79756385,\n",
      "         -3.32419107,   -2.90998989,   -2.5549603 ,   -2.14075912,\n",
      "         -1.72655793,   -1.25318515,   -0.66146918,   -0.41420118,\n",
      "          0.        ]))\n",
      "\n",
      "Standard test:\n",
      " (0.0, 116, [210.1465811139, 209.42549928940002, 208.4960452395, 206.9878024232, 205.0409921364, 203.2443908179, 201.6769858954, 199.5016356796, 193.0373320504, 185.6636406531, 178.6530229120764, 171.9173177215, 165.3757002264, 158.35210832770002, 151.0019109968, 144.11392966350002, 137.15124561800002, 130.2123579482, 122.8568139454, 117.88639974430001, 115.27264119040001, 113.1180085956, 111.9060277611, 111.17364794510002, 111.10482845160001, 111.0504191227, 111.0854319023, 111.36553413970002, 111.7856874956, 111.54050017520001, 110.67568451750002, 109.5098568174, 107.58415393590002, 105.79850217300002, 103.52860064330001, 100.8589966379, 97.19411560540001, 93.71601265510002, 86.2661255114, 83.85589962510001, 81.2972734189, 77.74212963750001, 73.5136631703, 67.29216155300001, 60.003039485000016, 52.323193288300004, 44.8842932883, 37.79119328830001, 29.792493288300022, 21.726393288300017, 15.93169328830001, 7.831893288300023, 0.3877932883000028, -6.761606711699983, -17.572294485899988, -25.241893410800003, -27.678782875400003, -30.234715790899998, -32.65059758779998, -35.136504943999995, -37.8675017578, -45.08013436869999, -51.36340671169998, -57.0198067117, -62.640406711699995, -67.76500671169998, -73.78620671169998, -79.40524187540001, -85.0265436505, -89.76027146119998, -93.19222412390002, -94.9510893749, -95.92067404250002, -96.79332063250001, -97.56710306309998, -98.26532791509999, -98.88071253049998, -99.67445224549999, -100.45550656109998, -101.18269506179996, -101.95269835459999, -103.78508301329998, -104.51227151410001, -105.21252710739998, -106.07438014529998, -106.88236736829998, -107.53426511499998, -108.22901274000003, -108.76352736449996, -109.95152753309998, -110.71098374820002, -111.4153828657, -112.2648053309, -112.98992206949998, -114.05417903109998, -114.4610449017, -114.59543851619998, -113.1893633734, -110.75211262530001, -107.51208386089996, -103.02474631889999, -98.36328157060001, -94.426933561, -87.8851235322, -79.09563606849997, -71.9358727549, -64.7169378436, -57.616346127699984, -50.456582814, -43.23764790279998, -36.255399382099995, -29.509837251899995, -21.75835796199999, -15.190310624699976, -8.622263287399988, -4.1420118342999785, 0.0], [-159.04959334810002, -157.6422273083, -156.34284889618002, -155.46173677961002, -155.24507220187002, -155.52376207220001, -156.0646216339, -156.8311736147, -159.2203316536, -162.0878783082, -164.82208234220002, -167.6618158695, -170.1249397638, -172.6212775456, -175.3834015582, -177.8467923435, -180.3749948932, -182.8172138834, -185.26900091870002, -187.0441488477, -188.162317503, -189.99375520860002, -192.5793143223, -195.23462956790001, -198.6883242021, -202.6739491697, -205.4749715428, -208.065917238, -210.6918757129, -213.5208141006, -216.0242278466, -217.69443164580002, -219.1999811714, -220.56547957830003, -222.0686949177, -223.9249352454, -226.43010062849999, -228.7786562597, -233.4792003805, -234.78383041659998, -235.5110189173, -236.1304757883, -236.5614023073, -237.2616579005, -238.03086173690002, -239.0611485452, -239.9061485452, -240.6653485452, -241.50384854520001, -242.3973485452, -243.0021485452, -243.8759485452, -244.6979485452, -245.4915485452, -246.85366418450002, -247.6190464147, -247.7461428049, -247.6411044659, -247.115912771, -245.99550382170003, -244.2448648385, -238.6778328718, -233.5543485452, -228.7256485452, -224.00474854520002, -219.6683485452, -214.5879485452, -210.1384261181, -205.4046983074, -201.7360592542, -197.8307338104, -194.11412917910002, -189.45473619290001, -182.301727308, -174.79148607000002, -166.9899385051, -159.9899385051, -152.2398489532, -145.1834272054, -137.8576763833, -131.1788377386, -116.5742886758, -108.4136177232, -101.4379946977, -93.73518317150001, -86.2747678122, -79.29032284990001, -72.1349914092, -67.2849963089, -57.38552953790001, -50.7730522896, -43.6254730089, -36.31215275950001, -29.3717496899, -22.462245279900003, -17.828004601300023, -13.330188342200017, -10.07262306780001, -8.045143916400008, -7.351082891800019, -6.872413171700003, -6.499495991800018, -6.2716021597000235, -5.796414283800004, -5.2176821953, -4.803481011800017, -4.389279828400021, -3.797563852100012, -3.3241910710000013, -2.9099898876000054, -2.5549603018000084, -2.1407591184000125, -1.7265579349000006, -1.2531851539000058, -0.6614691775000097, -0.4142011835000119, 0.0])\n"
     ]
    }
   ],
   "source": [
    "from scipy.spatial import cKDTree\n",
    "from scipy.spatial.distance import cdist\n",
    "\n",
    "def calculate_closest_id(x, y, point):\n",
    "\n",
    "    dx = [point[0] - icx for icx in x]\n",
    "    dy = [point[1] - icy for icy in y] \n",
    "\n",
    "    d = np.hypot(dx, dy)\n",
    "\n",
    "    return np.min(d), np.argmin(d), dx, dy\n",
    "\n",
    "def calculate_closest_id_numpy(x, y, point):\n",
    "\n",
    "    dx = point[0] - x\n",
    "    dy = point[1] - y\n",
    "\n",
    "    d = np.hypot(dx, dy)\n",
    "\n",
    "    return np.min(d), np.argmin(d), dx, dy\n",
    "\n",
    "calculate_closest_id_numpy_jit = jit(nopython=True)(calculate_closest_id_numpy)\n",
    "\n",
    "scipy_cdist = cdist(np.array([wx, wy]).T, np.array([[wx[-1], wy[-1]]])).argmin()\n",
    "scipy_ckdtree = cKDTree(np.array([wx, wy]).T).query(np.array([wx[-1], wy[-1]]), k=1, workers=-1)\n",
    "numba = calculate_closest_id_numpy_jit(wx, wy, (wx[-1], wy[-1]))\n",
    "numpy = calculate_closest_id_numpy(wx, wy, (wx[-1], wy[-1]))\n",
    "standard = calculate_closest_id(wx, wy, (wx[-1], wy[-1]))\n",
    "\n",
    "print(f\"\\nSciPy cDist test:\\n {scipy_cdist}\")\n",
    "print(f\"\\nSciPy cKDTree test:\\n {scipy_ckdtree}\")\n",
    "print(f\"\\nNumba test:\\n {numba}\")\n",
    "print(f\"\\nNumpy test:\\n {numpy}\")\n",
    "print(f\"\\nStandard test:\\n {standard}\")"
   ]
  },
  {
   "cell_type": "code",
   "execution_count": 96,
   "metadata": {},
   "outputs": [
    {
     "name": "stdout",
     "output_type": "stream",
     "text": [
      "12.6 µs ± 462 ns per loop (mean ± std. dev. of 7 runs, 100000 loops each)\n",
      "60.3 µs ± 279 ns per loop (mean ± std. dev. of 7 runs, 10000 loops each)\n",
      "2.07 µs ± 25.6 ns per loop (mean ± std. dev. of 7 runs, 100000 loops each)\n",
      "8.92 µs ± 111 ns per loop (mean ± std. dev. of 7 runs, 100000 loops each)\n",
      "38 µs ± 930 ns per loop (mean ± std. dev. of 7 runs, 10000 loops each)\n"
     ]
    }
   ],
   "source": [
    "scipy_cdist_t = %timeit -o cdist(np.array([wx, wy]).T, np.array([[wx[-1], wy[-1]]])).argmin()\n",
    "scipy_ckdtree_t = %timeit -o cKDTree(np.array([wx, wy]).T).query(np.array([wx[-1], wy[-1]]), k=1, workers=-1)\n",
    "numba_t = %timeit -o calculate_closest_id_numpy_jit(wx, wy, (wx[-1], wy[-1]))\n",
    "numpy_t = %timeit -o calculate_closest_id_numpy(wx, wy, (wx[-1], wy[-1]))\n",
    "standard_t = %timeit -o calculate_closest_id(wx, wy, (wx[-1], wy[-1]))"
   ]
  },
  {
   "cell_type": "code",
   "execution_count": 97,
   "metadata": {},
   "outputs": [
    {
     "name": "stdout",
     "output_type": "stream",
     "text": [
      "\n",
      "SciPy cDist test:\n",
      " 12.6 µs ± 462 ns per loop (mean ± std. dev. of 7 runs, 100000 loops each)\n",
      "\n",
      "SciPy cKDTree test:\n",
      " 60.3 µs ± 279 ns per loop (mean ± std. dev. of 7 runs, 10000 loops each)\n",
      "\n",
      "Numba test:\n",
      " 2.07 µs ± 25.6 ns per loop (mean ± std. dev. of 7 runs, 100000 loops each)\n",
      "\n",
      "Numpy test:\n",
      " 8.92 µs ± 111 ns per loop (mean ± std. dev. of 7 runs, 100000 loops each)\n",
      "\n",
      "Standard test:\n",
      " 38 µs ± 930 ns per loop (mean ± std. dev. of 7 runs, 10000 loops each)\n"
     ]
    }
   ],
   "source": [
    "print(f\"\\nSciPy cDist test:\\n {scipy_cdist_t}\")\n",
    "print(f\"\\nSciPy cKDTree test:\\n {scipy_ckdtree_t}\")\n",
    "print(f\"\\nNumba test:\\n {numba_t}\")\n",
    "print(f\"\\nNumpy test:\\n {numpy_t}\")\n",
    "print(f\"\\nStandard test:\\n {standard_t}\")"
   ]
  }
 ],
 "metadata": {
  "interpreter": {
   "hash": "cbbbd16f8fd095b74e0dc849e6684d5402e94c25f085b16fe212f438f1817bd2"
  },
  "kernelspec": {
   "display_name": "Python 3.9.5 64-bit ('optimizer': conda)",
   "name": "python3"
  },
  "language_info": {
   "codemirror_mode": {
    "name": "ipython",
    "version": 3
   },
   "file_extension": ".py",
   "mimetype": "text/x-python",
   "name": "python",
   "nbconvert_exporter": "python",
   "pygments_lexer": "ipython3",
   "version": "3.9.5"
  },
  "orig_nbformat": 4
 },
 "nbformat": 4,
 "nbformat_minor": 2
}
