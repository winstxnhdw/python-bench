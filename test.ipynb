{
 "cells": [
  {
   "cell_type": "code",
   "execution_count": 24,
   "source": [
    "import pandas as pd\n",
    "import numpy as np\n",
    "import math as m"
   ],
   "outputs": [],
   "metadata": {}
  },
  {
   "cell_type": "code",
   "execution_count": 25,
   "source": [
    "dir_path = 'data/waypoints.csv'\n",
    "df = pd.read_csv(dir_path)\n",
    "wx = df['y'].values.tolist()\n",
    "wy = df['x'].values.tolist()\n",
    "wx = wx[20:50]\n",
    "wy = wy[20:50]"
   ],
   "outputs": [],
   "metadata": {}
  },
  {
   "cell_type": "markdown",
   "source": [
    "# Vectorisation"
   ],
   "metadata": {}
  },
  {
   "cell_type": "code",
   "execution_count": 26,
   "source": [
    "def solve_1st_derivative(x, y):\n",
    "\n",
    "    dx = np.ediff1d(x)\n",
    "    dy = np.ediff1d(y)\n",
    "    dx = np.concatenate((dx, [dx[0]]))\n",
    "    dy = np.concatenate((dy, [dy[0]]))\n",
    "\n",
    "    return dx, dy"
   ],
   "outputs": [],
   "metadata": {}
  },
  {
   "cell_type": "code",
   "execution_count": 27,
   "source": [
    "%%capture\n",
    "def calculate_yaw_vectorised(x, y):\n",
    "\n",
    "    dx, dy = solve_1st_derivative(x, y)\n",
    "        \n",
    "    return np.arctan2(dy, dx)\n",
    "\n",
    "def calculate_yaw_optimised(x, y):\n",
    "\n",
    "    dx, dy = solve_1st_derivative(x, y)\n",
    "\n",
    "    yaw = []\n",
    "\n",
    "    yaw.append(m.atan2(dy[0], dx[0]))\n",
    "\n",
    "    for i in range(1, len(x) - 1):\n",
    "        d0 = np.array([dx[i], dy[i]])\n",
    "        d0_hat = d0/np.linalg.norm(d0)\n",
    "\n",
    "        d1 = np.array([dx[i-1], dy[i-1]])\n",
    "        d1_hat = d1/np.linalg.norm(d1)\n",
    "\n",
    "        d_bisect = d0_hat + d1_hat\n",
    "        \n",
    "        yaw.append(m.atan2(d_bisect[1], d_bisect[0]))\n",
    "\n",
    "    yaw.append(m.atan2(dy[-1], dx[-1]))\n",
    "        \n",
    "    return yaw\n",
    "\n",
    "def calculate_yaw(x, y):\n",
    "\n",
    "    dx, dy = solve_1st_derivative(x, y)\n",
    "\n",
    "    yaw = []\n",
    "\n",
    "    for i in range(0, len(x)):\n",
    "        yaw.append(np.arctan2(dy[i], dx[i]))\n",
    "\n",
    "    return yaw\n",
    "\n",
    "t_vectorised = %timeit -o calculate_yaw_vectorised(wx, wy)\n",
    "t_optimised = %timeit -o calculate_yaw_optimised(wx, wy)\n",
    "t_default = %timeit -o calculate_yaw(wx, wy)"
   ],
   "outputs": [],
   "metadata": {}
  },
  {
   "cell_type": "code",
   "execution_count": 28,
   "source": [
    "print(\"\\nVectorised test:\\n{}\".format(t_vectorised))\n",
    "print(\"\\n'Optimised' test:\\n{}\".format(t_optimised))\n",
    "print(\"\\nDefault test:\\n{}\".format(t_default))"
   ],
   "outputs": [
    {
     "output_type": "stream",
     "name": "stdout",
     "text": [
      "\n",
      "Vectorised test:\n",
      "34.9 µs ± 5.56 µs per loop (mean ± std. dev. of 7 runs, 10000 loops each)\n",
      "\n",
      "'Optimised' test:\n",
      "878 µs ± 52.1 µs per loop (mean ± std. dev. of 7 runs, 1000 loops each)\n",
      "\n",
      "Default test:\n",
      "109 µs ± 41.8 µs per loop (mean ± std. dev. of 7 runs, 10000 loops each)\n"
     ]
    }
   ],
   "metadata": {}
  },
  {
   "cell_type": "markdown",
   "source": [
    "# Exponents"
   ],
   "metadata": {}
  },
  {
   "cell_type": "code",
   "execution_count": 29,
   "source": [
    "%%capture\n",
    "\n",
    "def nat_pow(a, exp):\n",
    "\n",
    "    for i in range(0, exp):\n",
    "        a *= a\n",
    "\n",
    "    return a\n",
    "\n",
    "a = 7.6\n",
    "exp = 3\n",
    "t_manual = %timeit -o a*a\n",
    "t_numpy = %timeit -o np.power(a, exp)\n",
    "t_math = %timeit -o m.pow(a, exp)\n",
    "t_optimised = %timeit -o nat_pow(a, exp)\n",
    "t_standard = %timeit -o pow(a, exp)\n",
    "t_default = %timeit -o a**exp"
   ],
   "outputs": [],
   "metadata": {}
  },
  {
   "cell_type": "code",
   "execution_count": 30,
   "source": [
    "print(\"\\nManual test:\\n{}\".format(t_manual))\n",
    "print(\"\\nNumpy test:\\n{}\".format(t_numpy))\n",
    "print(\"\\nMath test:\\n{}\".format(t_math))\n",
    "print(\"\\n'Optimised' test:\\n{}\".format(t_optimised))\n",
    "print(\"\\nStandard test:\\n{}\".format(t_standard))\n",
    "print(\"\\nDefault test:\\n{}\".format(t_default))"
   ],
   "outputs": [
    {
     "output_type": "stream",
     "name": "stdout",
     "text": [
      "\n",
      "Manual test:\n",
      "34.9 ns ± 2.2 ns per loop (mean ± std. dev. of 7 runs, 10000000 loops each)\n",
      "\n",
      "Numpy test:\n",
      "1.37 µs ± 36.3 ns per loop (mean ± std. dev. of 7 runs, 1000000 loops each)\n",
      "\n",
      "Math test:\n",
      "218 ns ± 44.6 ns per loop (mean ± std. dev. of 7 runs, 10000000 loops each)\n",
      "\n",
      "'Optimised' test:\n",
      "524 ns ± 30.9 ns per loop (mean ± std. dev. of 7 runs, 1000000 loops each)\n",
      "\n",
      "Standard test:\n",
      "190 ns ± 10.2 ns per loop (mean ± std. dev. of 7 runs, 10000000 loops each)\n",
      "\n",
      "Default test:\n",
      "132 ns ± 7.24 ns per loop (mean ± std. dev. of 7 runs, 10000000 loops each)\n"
     ]
    }
   ],
   "metadata": {}
  },
  {
   "cell_type": "markdown",
   "source": [
    "# Path Curvature"
   ],
   "metadata": {}
  },
  {
   "cell_type": "code",
   "execution_count": 32,
   "source": [
    "%%capture\n",
    "\n",
    "from libs.cubic_spline_interpolator import calculate_spline_curvature, generate_cubic_path\n",
    "\n",
    "def calculate_curvature_vector(wx, wy):\n",
    "\n",
    "    x, y = generate_cubic_path(wx, wy, 0.1)\n",
    "    dp = solve_1st_derivative(x, y)\n",
    "    delta_s = np.hypot(dp[0], dp[1])\n",
    "    u_i = dp / delta_s\n",
    "\n",
    "    du = solve_1st_derivative(u_i[0], u_i[1])\n",
    "    abs_du = np.hypot(du[0], du[1])\n",
    "    k_i = abs_du / delta_s\n",
    "\n",
    "    return k_i\n",
    "\n",
    "def calculate_curvature(wx, wy):\n",
    "\n",
    "    x, y = generate_cubic_path(wx, wy, 0.1)\n",
    "    dx, dy = solve_1st_derivative(x, y)\n",
    "    ddx, ddy = solve_1st_derivative(dx, dy)\n",
    "\n",
    "    return (ddy*dx - ddx*dy) / ((dx*dx + dy*dy)**(3/2))\n",
    "\n",
    "t_vector = %timeit -o calculate_curvature_vector(wx, wy)\n",
    "k_vector = calculate_curvature_vector(wx, wy).tolist()[:20]\n",
    "\n",
    "t_spline = %timeit -o calculate_spline_curvature(wx, wy, 0.1)\n",
    "k_spline = calculate_spline_curvature(wx, wy, 0.1)[:20]\n",
    "\n",
    "t_default = %timeit -o calculate_curvature(wx, wy)\n",
    "k_default = calculate_curvature(wx, wy).tolist()[:20]"
   ],
   "outputs": [],
   "metadata": {}
  },
  {
   "cell_type": "code",
   "execution_count": null,
   "source": [
    "print(\"\\nVector test:\\n{} \\n{}\".format(t_vector, k_vector))\n",
    "print(\"\\nSpline test:\\n{} \\n{}\".format(t_spline, k_spline))\n",
    "print(\"\\nDefault test:\\n{} \\n{}\".format(t_default, k_default))"
   ],
   "outputs": [
    {
     "output_type": "stream",
     "name": "stdout",
     "text": [
      "\n",
      "Vector test:\n",
      "4.79 ms ± 170 µs per loop (mean ± std. dev. of 7 runs, 100 loops each) \n",
      "[0.0071794594466529195, 0.014371994374315682, 0.02159222183660794, 0.02885455210393894, 0.03617306962996375, 0.04356140358782242, 0.051032584220446806, 0.05859888145617443, 0.06627162217067649, 0.0740609827063314, 0.08197575349652425, 0.09002307307734701, 0.09820812928166156, 0.10653382647688614, 0.11500041866865367, 0.12360511011479197, 0.13234162690684484, 0.1411997657250691, 0.15016492890792035, 0.1592176586500857]\n",
      "\n",
      "Spline test:\n",
      "7.68 ms ± 30.2 µs per loop (mean ± std. dev. of 7 runs, 100 loops each) \n",
      "[-1.037259719017142e-16, 0.007179460134010003, 0.01437363303432191, 0.021597122355828228, 0.028864309868369735, 0.036189235354098834, 0.04358546550513043, 0.05106594815776471, 0.05864284823360333, 0.06632736184122506, 0.07412950515381349, 0.08205787495466292, 0.09011937817797741, 0.09831892841865345, 0.10665910830055914, 0.1151397978420971, 0.1237577706062772, 0.13250626153231723, 0.1413745129677447, 0.1503473085826773]\n",
      "\n",
      "Default test:\n",
      "4.63 ms ± 29.3 µs per loop (mean ± std. dev. of 7 runs, 100 loops each) \n",
      "[0.007177823174940971, 0.014365463295483785, 0.021577580571132973, 0.028828659246152084, 0.03613289105524944, 0.04350404929666192, 0.050955349762388434, 0.05849929496170193, 0.06614749798621022, 0.07391048256766511, 0.08179745607704472, 0.0898160525941101, 0.09797204362180764, 0.10626901499415475, 0.1147080093841126, 0.12328713550703205, 0.13200114678857777, 0.14084099485089327, 0.14979336594613635, 0.1588402119831941]\n"
     ]
    }
   ],
   "metadata": {}
  },
  {
   "cell_type": "markdown",
   "source": [
    "# Prepending"
   ],
   "metadata": {}
  },
  {
   "cell_type": "code",
   "execution_count": null,
   "source": [
    "%%capture\n",
    "\n",
    "def solve_1st_derivative_insert(x, y):\n",
    "\n",
    "    dx = np.ediff1d(x)\n",
    "    dy = np.ediff1d(y)\n",
    "    dx = np.insert(dx, 0, dx[-1])\n",
    "    dy = np.insert(dy, 0, dy[-1])\n",
    "\n",
    "    return dx, dy\n",
    "\n",
    "def solve_1st_derivative_concat(x, y):\n",
    "\n",
    "    dx = np.ediff1d(x)\n",
    "    dy = np.ediff1d(y)\n",
    "    dx = np.concatenate((dx, [dx[-1]]))\n",
    "    dy = np.concatenate((dy, [dy[-1]]))\n",
    "\n",
    "    return dx, dy\n",
    "\n",
    "t_insert = %timeit -o solve_1st_derivative_insert(wx, wy)\n",
    "d = solve_1st_derivative_insert(wx, wy)\n",
    "d_insert = d[0][:5]\n",
    "\n",
    "t_concat = %timeit -o solve_1st_derivative_concat(wx, wy)\n",
    "d = solve_1st_derivative_concat(wx, wy)\n",
    "d_concat = d[0][:5]"
   ],
   "outputs": [],
   "metadata": {}
  },
  {
   "cell_type": "code",
   "execution_count": null,
   "source": [
    "print(\"\\nInsert test:\\n{}\\n{}\".format(t_insert, d_insert))\n",
    "print(\"\\nConcatenate test:\\n{}\\n{}\".format(t_concat, d_concat))"
   ],
   "outputs": [
    {
     "output_type": "stream",
     "name": "stdout",
     "text": [
      "\n",
      "Insert test:\n",
      "29.2 µs ± 697 ns per loop (mean ± std. dev. of 7 runs, 10000 loops each)\n",
      "[2.15463259 1.21198083 0.73237982 0.06881949 0.05440933]\n",
      "\n",
      "Concatenate test:\n",
      "12.1 µs ± 74.4 ns per loop (mean ± std. dev. of 7 runs, 100000 loops each)\n",
      "[2.15463259 2.15463259 1.21198083 0.73237982 0.06881949]\n"
     ]
    }
   ],
   "metadata": {}
  },
  {
   "cell_type": "markdown",
   "source": [
    "# Tuple"
   ],
   "metadata": {}
  },
  {
   "cell_type": "code",
   "execution_count": null,
   "source": [
    "%%capture\n",
    "\n",
    "def calculate_curvature_vector(wx, wy):\n",
    "\n",
    "    dp = solve_1st_derivative(wx, wy)\n",
    "    delta_s = np.hypot(dp[0], dp[1])\n",
    "    u_i = dp / delta_s\n",
    "\n",
    "    du = solve_1st_derivative(u_i[0], u_i[1])\n",
    "    abs_du = np.hypot(du[0], du[1])\n",
    "    k_i = abs_du / delta_s\n",
    "\n",
    "    return k_i\n",
    "\n",
    "def calculate_curvature_vector_tuple(wx, wy):\n",
    "\n",
    "    dp_x, dp_y = solve_1st_derivative(wx, wy)\n",
    "    delta_s = np.hypot(dp_x, dp_y)\n",
    "    u_i_x = dp_x / delta_s\n",
    "    u_i_y = dp_y / delta_s\n",
    "\n",
    "    du_x, du_y = solve_1st_derivative(u_i_x, u_i_y)\n",
    "    abs_du = np.hypot(du_x, du_y)\n",
    "    k_i = abs_du / delta_s\n",
    "\n",
    "    return k_i\n",
    "\n",
    "t_tuple = %timeit -o calculate_curvature_vector_tuple(wx, wy)\n",
    "t_default = %timeit -o calculate_curvature_vector(wx, wy)"
   ],
   "outputs": [
    {
     "output_type": "stream",
     "name": "stdout",
     "text": [
      "34.6 µs ± 1.5 µs per loop (mean ± std. dev. of 7 runs, 10000 loops each)\n",
      "40.1 µs ± 2.09 µs per loop (mean ± std. dev. of 7 runs, 10000 loops each)\n"
     ]
    }
   ],
   "metadata": {}
  },
  {
   "cell_type": "code",
   "execution_count": null,
   "source": [
    "print(\"\\nTuple test:\\n{}\".format(t_tuple))\n",
    "print(\"\\nDefault test:\\n{}\".format(t_default))"
   ],
   "outputs": [
    {
     "output_type": "stream",
     "name": "stdout",
     "text": [
      "\n",
      "Tuple test:\n",
      "34.6 µs ± 1.5 µs per loop (mean ± std. dev. of 7 runs, 10000 loops each)\n",
      "\n",
      "Default test:\n",
      "40.1 µs ± 2.09 µs per loop (mean ± std. dev. of 7 runs, 10000 loops each)\n"
     ]
    }
   ],
   "metadata": {}
  },
  {
   "cell_type": "code",
   "execution_count": null,
   "source": [
    "%%capture\n",
    "\n",
    "def solve_1st_derivative_concat_tuple(s):\n",
    "\n",
    "    ds = np.diff(s)\n",
    "    ds = np.concatenate((ds, [ds[-1]]))\n",
    "\n",
    "    return ds\n",
    "\n",
    "t_tuple = %timeit -o solve_1st_derivative_concat_tuple((wx, wy))\n",
    "d_tuple = solve_1st_derivative_concat_tuple((wx, wy))\n",
    "\n",
    "t_default = %timeit -o solve_1st_derivative_concat(wx, wy)\n",
    "d_default = solve_1st_derivative(wx, wy)"
   ],
   "outputs": [],
   "metadata": {}
  },
  {
   "cell_type": "code",
   "execution_count": null,
   "source": [
    "print(\"\\nTuple test:\\n{}\\n{}\".format(t_tuple, d_tuple))\n",
    "print(\"\\nDefault test:\\n{}\\n{}\".format(t_default, d_default))"
   ],
   "outputs": [
    {
     "output_type": "stream",
     "name": "stdout",
     "text": [
      "\n",
      "Tuple test:\n",
      "15.5 µs ± 204 ns per loop (mean ± std. dev. of 7 runs, 100000 loops each)\n",
      "[[ 2.15463259  1.21198083  0.73237982  0.06881949  0.05440933 -0.03501278\n",
      "  -0.28010224 -0.42015336  0.24518732  0.86481566  1.1658277   1.92570288\n",
      "   1.78565176  2.26990153  2.66960401  3.66488103  3.47810295  7.44988714\n",
      "   2.41022589  2.55862621  3.55514378  4.22846647  6.22150162  7.28912207\n",
      "   7.6798462   7.4389      7.0931      7.9987      8.0661    ]\n",
      " [ 1.83143771  2.58555911  2.65531525  3.45369463  3.98562497  2.80102237\n",
      "   2.5909457   2.62595847  2.82893839  2.50341375  1.6702038   1.50554953\n",
      "   1.36549841  1.50321534  1.85624033  2.50516538  2.34855563  4.70054412\n",
      "   1.30463004  0.7271885   0.61945687  0.43092652  0.70025559  0.76920384\n",
      "   1.03028681  0.845       0.7592      0.8385      0.8935    ]\n",
      " [ 1.83143771  2.58555911  2.65531525  3.45369463  3.98562497  2.80102237\n",
      "   2.5909457   2.62595847  2.82893839  2.50341375  1.6702038   1.50554953\n",
      "   1.36549841  1.50321534  1.85624033  2.50516538  2.34855563  4.70054412\n",
      "   1.30463004  0.7271885   0.61945687  0.43092652  0.70025559  0.76920384\n",
      "   1.03028681  0.845       0.7592      0.8385      0.8935    ]]\n",
      "\n",
      "Default test:\n",
      "16.9 µs ± 187 ns per loop (mean ± std. dev. of 7 runs, 100000 loops each)\n",
      "(array([ 2.15463259,  1.21198083,  0.73237982,  0.06881949,  0.05440933,\n",
      "       -0.03501278, -0.28010224, -0.42015336,  0.24518732,  0.86481566,\n",
      "        1.1658277 ,  1.92570288,  1.78565176,  2.26990153,  2.66960401,\n",
      "        3.66488103,  3.47810295,  7.44988714,  2.41022589,  2.55862621,\n",
      "        3.55514378,  4.22846647,  6.22150162,  7.28912207,  7.6798462 ,\n",
      "        7.4389    ,  7.0931    ,  7.9987    ,  8.0661    ,  2.15463259]), array([1.83143771, 2.58555911, 2.65531525, 3.45369463, 3.98562497,\n",
      "       2.80102237, 2.5909457 , 2.62595847, 2.82893839, 2.50341375,\n",
      "       1.6702038 , 1.50554953, 1.36549841, 1.50321534, 1.85624033,\n",
      "       2.50516538, 2.34855563, 4.70054412, 1.30463004, 0.7271885 ,\n",
      "       0.61945687, 0.43092652, 0.70025559, 0.76920384, 1.03028681,\n",
      "       0.845     , 0.7592    , 0.8385    , 0.8935    , 1.83143771]))\n"
     ]
    }
   ],
   "metadata": {}
  }
 ],
 "metadata": {
  "orig_nbformat": 4,
  "language_info": {
   "mimetype": "text/x-python",
   "nbconvert_exporter": "python",
   "name": "python",
   "pygments_lexer": "ipython3",
   "version": "3.9.5",
   "file_extension": ".py",
   "codemirror_mode": {
    "version": 3,
    "name": "ipython"
   }
  },
  "kernelspec": {
   "name": "python3",
   "display_name": "Python 3.9.5 64-bit ('optimizer': conda)"
  },
  "interpreter": {
   "hash": "57f26ffe740c5f0d472a9f25ed66cf4abb3f98049bb3b97f17b3f14c481ed229"
  }
 },
 "nbformat": 4,
 "nbformat_minor": 2
}