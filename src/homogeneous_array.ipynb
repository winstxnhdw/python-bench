{
 "cells": [
  {
   "cell_type": "code",
   "execution_count": 4,
   "metadata": {},
   "outputs": [],
   "source": [
    "from numpy import ones, zeros\n",
    "from libs.print_bench import print_bench"
   ]
  },
  {
   "cell_type": "code",
   "execution_count": 5,
   "metadata": {},
   "outputs": [],
   "source": [
    "%%capture\n",
    "\n",
    "test = lambda n: [1] * n\n",
    "test_comprehension = lambda n: [1 for _ in range(n)]\n",
    "test_zeros = lambda n: zeros(n)\n",
    "test_ones = lambda n: ones(n)\n",
    "\n",
    "n = 1000\n",
    "\n",
    "t_default       = %timeit -o test(n)\n",
    "t_comprehension = %timeit -o test_comprehension(n)\n",
    "t_zeros         = %timeit -o test_zeros(n)\n",
    "t_ones          = %timeit -o test_ones(n)"
   ]
  },
  {
   "cell_type": "code",
   "execution_count": 6,
   "metadata": {},
   "outputs": [
    {
     "name": "stdout",
     "output_type": "stream",
     "text": [
      "\n",
      "Default test:\n",
      "1.58 µs ± 1.94 ns per loop (mean ± std. dev. of 7 runs, 1000000 loops each)\n",
      "\n",
      "Comprehension test:\n",
      "18.1 µs ± 146 ns per loop (mean ± std. dev. of 7 runs, 100000 loops each)\n",
      "\n",
      "Zeros test:\n",
      "547 ns ± 4.81 ns per loop (mean ± std. dev. of 7 runs, 1000000 loops each)\n",
      "\n",
      "Ones test:\n",
      "1.67 µs ± 24.5 ns per loop (mean ± std. dev. of 7 runs, 1000000 loops each)\n"
     ]
    }
   ],
   "source": [
    "print_bench(['default', 'comprehension', 'zeros', 'ones'], [t_default, t_comprehension, t_zeros, t_ones])"
   ]
  },
  {
   "cell_type": "markdown",
   "metadata": {},
   "source": [
    "# Conclusion\n",
    "\n",
    "For whatever reason, NumPy's `ones()` has a larger overhead than `zeros()`. For tiny lists, the built-in method for creating homogeneous lists is faster. Otherwise, use NumPy's `zeros()` or `ones()`. Never ever use list comprehensions to make such lists."
   ]
  }
 ],
 "metadata": {
  "interpreter": {
   "hash": "e585b5a17206fb752393266810a7bb84c4ab44148c83f69765e81e1d4e9c02d0"
  },
  "kernelspec": {
   "display_name": "Python 3.10.0 ('bench')",
   "language": "python",
   "name": "python3"
  },
  "language_info": {
   "codemirror_mode": {
    "name": "ipython",
    "version": 3
   },
   "file_extension": ".py",
   "mimetype": "text/x-python",
   "name": "python",
   "nbconvert_exporter": "python",
   "pygments_lexer": "ipython3",
   "version": "3.10.0"
  },
  "orig_nbformat": 4
 },
 "nbformat": 4,
 "nbformat_minor": 2
}
