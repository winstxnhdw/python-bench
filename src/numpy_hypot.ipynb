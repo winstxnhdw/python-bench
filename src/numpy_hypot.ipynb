{
 "cells": [
  {
   "cell_type": "code",
   "execution_count": 70,
   "metadata": {},
   "outputs": [],
   "source": [
    "from numpy import ediff1d, concatenate, ndarray, hypot\n",
    "from numpy.typing import ArrayLike\n",
    "from pandas import read_csv\n",
    "from libs.print_bench import print_bench"
   ]
  },
  {
   "cell_type": "code",
   "execution_count": 71,
   "metadata": {},
   "outputs": [],
   "source": [
    "dir_path = 'data/waypoints.csv'\n",
    "df = read_csv(dir_path)\n",
    "wx = df['x'].values\n",
    "wy = df['y'].values"
   ]
  },
  {
   "cell_type": "code",
   "execution_count": 72,
   "metadata": {},
   "outputs": [],
   "source": [
    "def solve_1st_derivative(x: ArrayLike, y: ArrayLike) -> tuple[ndarray, ndarray]:\n",
    "\n",
    "    dx = ediff1d(x)\n",
    "    dy = ediff1d(y)\n",
    "    dx = concatenate((dx, [dx[-1]]))\n",
    "    dy = concatenate((dy, [dy[-1]]))\n",
    "\n",
    "    return dx, dy"
   ]
  },
  {
   "cell_type": "code",
   "execution_count": 73,
   "metadata": {},
   "outputs": [],
   "source": [
    "%%capture\n",
    "\n",
    "def calculate_curvature(x: ArrayLike, y: ArrayLike) -> ndarray:\n",
    "\n",
    "    dx, dy = solve_1st_derivative(x, y)\n",
    "    ddx, ddy = solve_1st_derivative(dx, dy)\n",
    "\n",
    "    return (ddy*dx - ddx*dy) / ((dx*dx + dy*dy)**1.5)\n",
    "\n",
    "def calculate_curvature_hypot(x: ArrayLike, y: ArrayLike) -> ndarray:\n",
    "\n",
    "    dx, dy = solve_1st_derivative(x, y)\n",
    "    ddx, ddy = solve_1st_derivative(dx, dy)\n",
    "\n",
    "    return (ddy*dx - ddx*dy) / (hypot(dx, dy)**3)\n",
    "\n",
    "t_default = %timeit -o calculate_curvature(wx, wy)\n",
    "t_expo = %timeit -o calculate_curvature_expo(wx, wy)\n",
    "t_hypot = %timeit -o calculate_curvature_hypot(wx, wy)"
   ]
  },
  {
   "cell_type": "code",
   "execution_count": 74,
   "metadata": {},
   "outputs": [
    {
     "name": "stdout",
     "output_type": "stream",
     "text": [
      "\n",
      "Default test:\n",
      "16.8 µs ± 34.9 ns per loop (mean ± std. dev. of 7 runs, 100000 loops each)\n",
      "\n",
      "Expo test:\n",
      "18.5 µs ± 237 ns per loop (mean ± std. dev. of 7 runs, 100000 loops each)\n",
      "\n",
      "Hypot test:\n",
      "17.3 µs ± 154 ns per loop (mean ± std. dev. of 7 runs, 100000 loops each)\n"
     ]
    }
   ],
   "source": [
    "print_bench(['default', 'expo', 'hypot'], [t_default, t_expo, t_hypot])"
   ]
  },
  {
   "cell_type": "markdown",
   "metadata": {},
   "source": [
    "# Conclusion\n",
    "\n",
    "Using decimals as exponents is more performant than using NumPy's `hypot` function."
   ]
  }
 ],
 "metadata": {
  "interpreter": {
   "hash": "e585b5a17206fb752393266810a7bb84c4ab44148c83f69765e81e1d4e9c02d0"
  },
  "kernelspec": {
   "display_name": "Python 3.10.0 ('bench')",
   "language": "python",
   "name": "python3"
  },
  "language_info": {
   "codemirror_mode": {
    "name": "ipython",
    "version": 3
   },
   "file_extension": ".py",
   "mimetype": "text/x-python",
   "name": "python",
   "nbconvert_exporter": "python",
   "pygments_lexer": "ipython3",
   "version": "3.10.0"
  },
  "orig_nbformat": 4
 },
 "nbformat": 4,
 "nbformat_minor": 2
}
