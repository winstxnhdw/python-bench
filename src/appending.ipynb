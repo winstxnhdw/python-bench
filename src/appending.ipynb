{
 "cells": [
  {
   "cell_type": "code",
   "execution_count": 30,
   "metadata": {},
   "outputs": [],
   "source": [
    "import numpy as np\n",
    "\n",
    "from pandas import read_csv\n",
    "from libs.print_bench import print_bench"
   ]
  },
  {
   "cell_type": "code",
   "execution_count": 31,
   "metadata": {},
   "outputs": [],
   "source": [
    "dir_path = 'data/waypoints.csv'\n",
    "df = read_csv(dir_path)\n",
    "wx = df['x'].values\n",
    "wy = df['y'].values"
   ]
  },
  {
   "cell_type": "code",
   "execution_count": 32,
   "metadata": {},
   "outputs": [],
   "source": [
    "%%capture\n",
    "\n",
    "def solve_1st_derivative(x, y):\n",
    "    dx = np.ediff1d(x).tolist()\n",
    "    dy = np.ediff1d(y).tolist()\n",
    "    dx.append(dx[0])\n",
    "    dy.append(dy[0])\n",
    "\n",
    "    return np.array(dx), np.array(dy)\n",
    "\n",
    "def solve_1st_derivative_unpack(x, y):\n",
    "\n",
    "    dx = np.ediff1d(x).tolist()\n",
    "    dy = np.ediff1d(y).tolist()\n",
    "    dx = [*dx, dx[0]]\n",
    "    dy = [*dy, dy[0]]\n",
    "\n",
    "    return dx, dy\n",
    "\n",
    "def solve_1st_derivative_add(x, y):\n",
    "\n",
    "    dx = np.ediff1d(x).tolist()\n",
    "    dy = np.ediff1d(y).tolist()\n",
    "    dx = dx + [dx[0]]\n",
    "    dy = dy + [dy[0]]\n",
    "\n",
    "    return dx, dy\n",
    "\n",
    "def solve_1st_derivative_append(x, y):\n",
    "\n",
    "    dx = np.ediff1d(x)\n",
    "    dy = np.ediff1d(y)\n",
    "    dx = np.append(dx, dx[0])\n",
    "    dy = np.append(dy, dy[0])\n",
    "\n",
    "    return dx, dy\n",
    "\n",
    "def solve_1st_derivative_concat(x, y):\n",
    "\n",
    "    dx = np.ediff1d(x)\n",
    "    dy = np.ediff1d(y)\n",
    "    dx = np.concatenate((dx, [dx[0]]))\n",
    "    dy = np.concatenate((dy, [dy[0]]))\n",
    "\n",
    "    return dx, dy\n",
    "\n",
    "t_default = %timeit -o solve_1st_derivative(wx, wy)\n",
    "t_unpack  = %timeit -o solve_1st_derivative_unpack(wx, wy)\n",
    "t_add     = %timeit -o solve_1st_derivative_add(wx, wy)\n",
    "t_append  = %timeit -o solve_1st_derivative_append(wx, wy)\n",
    "t_concat  = %timeit -o solve_1st_derivative_concat(wx, wy)"
   ]
  },
  {
   "cell_type": "code",
   "execution_count": 33,
   "metadata": {},
   "outputs": [
    {
     "name": "stdout",
     "output_type": "stream",
     "text": [
      "\n",
      "Default test:\n",
      "16 µs ± 36.1 ns per loop (mean ± std. dev. of 7 runs, 100000 loops each)\n",
      "\n",
      "Unpack test:\n",
      "5.78 µs ± 29.1 ns per loop (mean ± std. dev. of 7 runs, 100000 loops each)\n",
      "\n",
      "Add test:\n",
      "5.67 µs ± 27.3 ns per loop (mean ± std. dev. of 7 runs, 100000 loops each)\n",
      "\n",
      "Append test:\n",
      "9.15 µs ± 67.3 ns per loop (mean ± std. dev. of 7 runs, 100000 loops each)\n",
      "\n",
      "Concat test:\n",
      "5.42 µs ± 33.1 ns per loop (mean ± std. dev. of 7 runs, 100000 loops each)\n"
     ]
    }
   ],
   "source": [
    "print_bench(['default', 'unpack', 'add', 'append', 'concat'], [t_default, t_unpack, t_add, t_append, t_concat])"
   ]
  },
  {
   "cell_type": "markdown",
   "metadata": {},
   "source": [
    "# Conclusion\n",
    "\n",
    "NumPy's `concatenate()` is fastest when appending multiple elements. Never use NumPy's `append()` method. The built-in `+` operator is fastest if the input is **not** a array; probably due to conversion overheads from list to array."
   ]
  }
 ],
 "metadata": {
  "interpreter": {
   "hash": "e585b5a17206fb752393266810a7bb84c4ab44148c83f69765e81e1d4e9c02d0"
  },
  "kernelspec": {
   "display_name": "Python 3.10.0 ('bench')",
   "language": "python",
   "name": "python3"
  },
  "language_info": {
   "codemirror_mode": {
    "name": "ipython",
    "version": 3
   },
   "file_extension": ".py",
   "mimetype": "text/x-python",
   "name": "python",
   "nbconvert_exporter": "python",
   "pygments_lexer": "ipython3",
   "version": "3.10.0"
  },
  "orig_nbformat": 4
 },
 "nbformat": 4,
 "nbformat_minor": 2
}
