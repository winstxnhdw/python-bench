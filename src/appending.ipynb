{
 "cells": [
  {
   "cell_type": "code",
   "execution_count": 9,
   "metadata": {},
   "outputs": [],
   "source": [
    "import numpy as np\n",
    "\n",
    "from pandas import read_csv\n",
    "from libs.print_bench import print_bench"
   ]
  },
  {
   "cell_type": "code",
   "execution_count": 10,
   "metadata": {},
   "outputs": [],
   "source": [
    "dir_path = 'data/waypoints.csv'\n",
    "df = read_csv(dir_path)\n",
    "wx = df['y'].values\n",
    "wy = df['x'].values"
   ]
  },
  {
   "cell_type": "code",
   "execution_count": 11,
   "metadata": {},
   "outputs": [],
   "source": [
    "%%capture\n",
    "\n",
    "def solve_1st_derivative(x, y):\n",
    "    dx = np.ediff1d(x).tolist()\n",
    "    dy = np.ediff1d(y).tolist()\n",
    "    dx.append(dx[0])\n",
    "    dy.append(dy[0])\n",
    "\n",
    "    return np.array(dx), np.array(dy)\n",
    "\n",
    "def solve_1st_derivative_append(x, y):\n",
    "\n",
    "    dx = np.ediff1d(x)\n",
    "    dy = np.ediff1d(y)\n",
    "    dx = np.append(dx, dx[0])\n",
    "    dy = np.append(dy, dy[0])\n",
    "\n",
    "    return dx, dy\n",
    "\n",
    "def solve_1st_derivative_concat(x, y):\n",
    "\n",
    "    dx = np.ediff1d(x)\n",
    "    dy = np.ediff1d(y)\n",
    "    dx = np.concatenate((dx, [dx[0]]))\n",
    "    dy = np.concatenate((dy, [dy[0]]))\n",
    "\n",
    "    return dx, dy\n",
    "\n",
    "t_default = %timeit -o solve_1st_derivative(wx, wy)\n",
    "t_append  = %timeit -o solve_1st_derivative_append(wx, wy)\n",
    "t_concat  = %timeit -o solve_1st_derivative_concat(wx, wy)"
   ]
  },
  {
   "cell_type": "code",
   "execution_count": 12,
   "metadata": {},
   "outputs": [
    {
     "name": "stdout",
     "output_type": "stream",
     "text": [
      "\n",
      "Default test:\n",
      "16.9 µs ± 150 ns per loop (mean ± std. dev. of 7 runs, 100000 loops each)\n",
      "\n",
      "Append test:\n",
      "10.1 µs ± 154 ns per loop (mean ± std. dev. of 7 runs, 100000 loops each)\n",
      "\n",
      "Concatenate test:\n",
      "5.69 µs ± 112 ns per loop (mean ± std. dev. of 7 runs, 100000 loops each)\n"
     ]
    }
   ],
   "source": [
    "print_bench(['default', 'append', 'concatenate'], [t_default, t_append, t_concat])"
   ]
  },
  {
   "cell_type": "markdown",
   "metadata": {},
   "source": [
    "# Conclusion\n",
    "\n",
    "NumPy's `concatenate()` is fastest when appending multiple elements. Never use NumPy's `append()` method. The built-in `append()` method is fastest if the input is **not** a array due to conversion overheads from list to array."
   ]
  }
 ],
 "metadata": {
  "interpreter": {
   "hash": "e585b5a17206fb752393266810a7bb84c4ab44148c83f69765e81e1d4e9c02d0"
  },
  "kernelspec": {
   "display_name": "Python 3.10.0 ('bench')",
   "language": "python",
   "name": "python3"
  },
  "language_info": {
   "codemirror_mode": {
    "name": "ipython",
    "version": 3
   },
   "file_extension": ".py",
   "mimetype": "text/x-python",
   "name": "python",
   "nbconvert_exporter": "python",
   "pygments_lexer": "ipython3",
   "version": "3.10.0"
  },
  "orig_nbformat": 4
 },
 "nbformat": 4,
 "nbformat_minor": 2
}
