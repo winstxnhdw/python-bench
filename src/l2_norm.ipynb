{
 "cells": [
  {
   "cell_type": "code",
   "execution_count": 49,
   "metadata": {},
   "outputs": [],
   "source": [
    "from numpy import array, hypot\n",
    "from numpy.linalg import norm\n",
    "from pandas import read_csv\n",
    "from libs.print_bench import print_bench"
   ]
  },
  {
   "cell_type": "code",
   "execution_count": 50,
   "metadata": {},
   "outputs": [],
   "source": [
    "dir_path = 'data/waypoints.csv'\n",
    "df = read_csv(dir_path)\n",
    "waypoints = array([df['x'].values, df['y'].values])\n",
    "point = array([df['x'].values[0], df['y'].values[0]])"
   ]
  },
  {
   "cell_type": "code",
   "execution_count": 51,
   "metadata": {},
   "outputs": [],
   "source": [
    "%%capture\n",
    "\n",
    "calculate_euclidean_distance_norm = lambda point, waypoints: norm((waypoints.T - point), axis=1)\n",
    "calculate_euclidean_distance_hypot = lambda point, waypoints: hypot(*(waypoints.T - point).T)\n",
    "\n",
    "t_norm = %timeit -o calculate_euclidean_distance_norm(point, waypoints)\n",
    "t_hypot = %timeit -o calculate_euclidean_distance_hypot(point, waypoints)"
   ]
  },
  {
   "cell_type": "code",
   "execution_count": 52,
   "metadata": {},
   "outputs": [
    {
     "name": "stdout",
     "output_type": "stream",
     "text": [
      "\n",
      "Norm test:\n",
      "5.39 µs ± 10.2 ns per loop (mean ± std. dev. of 7 runs, 100000 loops each)\n",
      "\n",
      "Hypot test:\n",
      "3.1 µs ± 16.2 ns per loop (mean ± std. dev. of 7 runs, 100000 loops each)\n"
     ]
    }
   ],
   "source": [
    "print_bench(['norm', 'hypot'], [t_norm, t_hypot])"
   ]
  },
  {
   "cell_type": "markdown",
   "metadata": {},
   "source": [
    "# Conclusion\n",
    "\n",
    "For L2-Norms, NumPy's `hypot` function is faster than its `linalg.norm` counterpart."
   ]
  }
 ],
 "metadata": {
  "interpreter": {
   "hash": "e585b5a17206fb752393266810a7bb84c4ab44148c83f69765e81e1d4e9c02d0"
  },
  "kernelspec": {
   "display_name": "Python 3.10.0 ('bench')",
   "language": "python",
   "name": "python3"
  },
  "language_info": {
   "codemirror_mode": {
    "name": "ipython",
    "version": 3
   },
   "file_extension": ".py",
   "mimetype": "text/x-python",
   "name": "python",
   "nbconvert_exporter": "python",
   "pygments_lexer": "ipython3",
   "version": "3.10.0"
  },
  "orig_nbformat": 4
 },
 "nbformat": 4,
 "nbformat_minor": 2
}
