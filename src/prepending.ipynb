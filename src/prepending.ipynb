{
 "cells": [
  {
   "cell_type": "code",
   "execution_count": 38,
   "metadata": {},
   "outputs": [],
   "source": [
    "import numpy as np\n",
    "\n",
    "from pandas import read_csv\n",
    "from libs.print_bench import print_bench"
   ]
  },
  {
   "cell_type": "code",
   "execution_count": 39,
   "metadata": {},
   "outputs": [],
   "source": [
    "dir_path = 'data/waypoints.csv'\n",
    "df = read_csv(dir_path)\n",
    "wx = df['y'].values[:10]\n",
    "wy = df['x'].values[:10]"
   ]
  },
  {
   "cell_type": "code",
   "execution_count": 40,
   "metadata": {},
   "outputs": [],
   "source": [
    "%%capture\n",
    "\n",
    "def solve_1st_derivative(x, y):\n",
    "\n",
    "    dx = np.ediff1d(x).tolist()\n",
    "    dy = np.ediff1d(y).tolist()\n",
    "    dx.insert(0, dx[-1])\n",
    "    dy.insert(0, dy[-1])\n",
    "\n",
    "    return np.array(dx), np.array(dy)\n",
    "\n",
    "def solve_1st_derivative_insert(x, y):\n",
    "\n",
    "    dx = np.ediff1d(x)\n",
    "    dy = np.ediff1d(y)\n",
    "    dx = np.insert(dx, 0, dx[-1])\n",
    "    dy = np.insert(dy, 0, dy[-1])\n",
    "\n",
    "    return dx, dy\n",
    "\n",
    "def solve_1st_derivative_concat(x, y):\n",
    "\n",
    "    dx = np.ediff1d(x)\n",
    "    dy = np.ediff1d(y)\n",
    "    dx = np.concatenate(([dx[-1]], dx))\n",
    "    dy = np.concatenate(([dy[-1]], dy))\n",
    "\n",
    "    return dx, dy\n",
    "\n",
    "t_default = %timeit -o solve_1st_derivative(wx, wy)\n",
    "t_insert  = %timeit -o solve_1st_derivative_insert(wx, wy)\n",
    "t_concat  = %timeit -o solve_1st_derivative_concat(wx, wy)"
   ]
  },
  {
   "cell_type": "code",
   "execution_count": 41,
   "metadata": {},
   "outputs": [
    {
     "name": "stdout",
     "output_type": "stream",
     "text": [
      "\n",
      "Default test:\n",
      "4.64 µs ± 93.9 ns per loop (mean ± std. dev. of 7 runs, 100000 loops each)\n",
      "\n",
      "Insert test:\n",
      "22.7 µs ± 426 ns per loop (mean ± std. dev. of 7 runs, 10000 loops each)\n",
      "\n",
      "Concatenate test:\n",
      "5.74 µs ± 84.8 ns per loop (mean ± std. dev. of 7 runs, 100000 loops each)\n"
     ]
    }
   ],
   "source": [
    "print_bench(['default', 'insert', 'concatenate'], [t_default, t_insert, t_concat])"
   ]
  },
  {
   "cell_type": "markdown",
   "metadata": {},
   "source": [
    "# Conclusion\n",
    "\n",
    "NumPy's `concatenate()` is fastest when prepending multiple elements. Never use NumPy's `insert()` method. The built-in `insert()` method is fastest if the input is **not** a array due to conversion overheads from list to array."
   ]
  }
 ],
 "metadata": {
  "interpreter": {
   "hash": "e585b5a17206fb752393266810a7bb84c4ab44148c83f69765e81e1d4e9c02d0"
  },
  "kernelspec": {
   "display_name": "Python 3.10.0 ('bench')",
   "language": "python",
   "name": "python3"
  },
  "language_info": {
   "codemirror_mode": {
    "name": "ipython",
    "version": 3
   },
   "file_extension": ".py",
   "mimetype": "text/x-python",
   "name": "python",
   "nbconvert_exporter": "python",
   "pygments_lexer": "ipython3",
   "version": "3.10.0"
  },
  "orig_nbformat": 4
 },
 "nbformat": 4,
 "nbformat_minor": 2
}
