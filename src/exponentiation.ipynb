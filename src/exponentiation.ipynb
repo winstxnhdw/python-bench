{
 "cells": [
  {
   "cell_type": "code",
   "execution_count": 3,
   "metadata": {},
   "outputs": [],
   "source": [
    "from math import pow\n",
    "from numpy import power\n",
    "from libs.print_bench import print_bench"
   ]
  },
  {
   "cell_type": "code",
   "execution_count": 4,
   "metadata": {},
   "outputs": [],
   "source": [
    "%%capture\n",
    "\n",
    "def nat_pow(base, exponent):\n",
    "\n",
    "    result = 1.0\n",
    "\n",
    "    for i in range(exponent):\n",
    "        result *= base\n",
    "\n",
    "    return result\n",
    "\n",
    "a = 7.6\n",
    "exp = 3\n",
    "\n",
    "t_default  = %timeit -o a**exp\n",
    "t_standard = %timeit -o pow(a, exp)\n",
    "t_numpy    = %timeit -o power(a, exp)\n",
    "t_math     = %timeit -o pow(a, exp)\n",
    "t_custom   = %timeit -o nat_pow(a, exp)"
   ]
  },
  {
   "cell_type": "code",
   "execution_count": 5,
   "metadata": {},
   "outputs": [
    {
     "name": "stdout",
     "output_type": "stream",
     "text": [
      "\n",
      "Default test:\n",
      "68.7 ns ± 1.25 ns per loop (mean ± std. dev. of 7 runs, 10000000 loops each)\n",
      "\n",
      "Standard test:\n",
      "78.6 ns ± 0.511 ns per loop (mean ± std. dev. of 7 runs, 10000000 loops each)\n",
      "\n",
      "Numpy test:\n",
      "963 ns ± 18.5 ns per loop (mean ± std. dev. of 7 runs, 1000000 loops each)\n",
      "\n",
      "Math test:\n",
      "76.6 ns ± 0.478 ns per loop (mean ± std. dev. of 7 runs, 10000000 loops each)\n",
      "\n",
      "Custom test:\n",
      "227 ns ± 3.92 ns per loop (mean ± std. dev. of 7 runs, 1000000 loops each)\n"
     ]
    }
   ],
   "source": [
    "print_bench([\"default\", \"standard\", \"numpy\", \"math\", \"custom\"], [t_default, t_standard, t_numpy, t_math, t_custom])"
   ]
  },
  {
   "cell_type": "markdown",
   "metadata": {},
   "source": [
    "# Conclusion\n",
    "\n",
    "Surprisingly, the Python's default method of exponentiation is the fastest for single element operations."
   ]
  }
 ],
 "metadata": {
  "interpreter": {
   "hash": "e585b5a17206fb752393266810a7bb84c4ab44148c83f69765e81e1d4e9c02d0"
  },
  "kernelspec": {
   "display_name": "Python 3.10.0 ('bench')",
   "language": "python",
   "name": "python3"
  },
  "language_info": {
   "codemirror_mode": {
    "name": "ipython",
    "version": 3
   },
   "file_extension": ".py",
   "mimetype": "text/x-python",
   "name": "python",
   "nbconvert_exporter": "python",
   "pygments_lexer": "ipython3",
   "version": "3.10.0"
  },
  "orig_nbformat": 4
 },
 "nbformat": 4,
 "nbformat_minor": 2
}
