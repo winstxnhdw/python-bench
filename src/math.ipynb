{
 "cells": [
  {
   "cell_type": "code",
   "execution_count": 7,
   "metadata": {},
   "outputs": [],
   "source": [
    "from math import tan as mtan\n",
    "from numpy import tan as ntan\n",
    "from libs.print_bench import print_bench"
   ]
  },
  {
   "cell_type": "code",
   "execution_count": 8,
   "metadata": {},
   "outputs": [],
   "source": [
    "%%capture\n",
    "\n",
    "test_math = lambda x: mtan(x)\n",
    "test_numpy = lambda x: ntan(x)\n",
    "\n",
    "x = 0.5\n",
    "\n",
    "t_math = %timeit -o test_math(x)\n",
    "t_numpy = %timeit -o test_numpy(x)"
   ]
  },
  {
   "cell_type": "code",
   "execution_count": 9,
   "metadata": {},
   "outputs": [
    {
     "name": "stdout",
     "output_type": "stream",
     "text": [
      "\n",
      "Math test:\n",
      "81.8 ns ± 0.177 ns per loop (mean ± std. dev. of 7 runs, 10000000 loops each)\n",
      "\n",
      "Numpy test:\n",
      "483 ns ± 6.8 ns per loop (mean ± std. dev. of 7 runs, 1000000 loops each)\n"
     ]
    }
   ],
   "source": [
    "print_bench(['math', 'numpy'], [t_math, t_numpy])"
   ]
  },
  {
   "cell_type": "markdown",
   "metadata": {},
   "source": [
    "# Conclusion\n",
    "\n",
    "Obvious result but it is still nice to confirm. The built-in `math` package is fastest for single element operations."
   ]
  }
 ],
 "metadata": {
  "interpreter": {
   "hash": "e585b5a17206fb752393266810a7bb84c4ab44148c83f69765e81e1d4e9c02d0"
  },
  "kernelspec": {
   "display_name": "Python 3.10.0 ('bench')",
   "language": "python",
   "name": "python3"
  },
  "language_info": {
   "codemirror_mode": {
    "name": "ipython",
    "version": 3
   },
   "file_extension": ".py",
   "mimetype": "text/x-python",
   "name": "python",
   "nbconvert_exporter": "python",
   "pygments_lexer": "ipython3",
   "version": "3.10.0"
  },
  "orig_nbformat": 4
 },
 "nbformat": 4,
 "nbformat_minor": 2
}
