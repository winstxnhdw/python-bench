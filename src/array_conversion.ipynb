{
 "cells": [
  {
   "cell_type": "code",
   "execution_count": 1,
   "metadata": {},
   "outputs": [],
   "source": [
    "import numpy as np\n",
    "\n",
    "from pandas import read_csv\n",
    "from libs.print_bench import print_bench"
   ]
  },
  {
   "cell_type": "code",
   "execution_count": 2,
   "metadata": {},
   "outputs": [],
   "source": [
    "dir_path = 'data/waypoints.csv'\n",
    "df = read_csv(dir_path)\n",
    "wx = df['x'].values\n",
    "wy = df['y'].values"
   ]
  },
  {
   "cell_type": "markdown",
   "metadata": {},
   "source": [
    "# List to Array conversion"
   ]
  },
  {
   "cell_type": "code",
   "execution_count": null,
   "metadata": {},
   "outputs": [],
   "source": [
    "%%capture\n",
    "\n",
    "def test(x, y):\n",
    "\n",
    "    distance = [0]\n",
    "    distance.append(np.cumsum(np.hypot(np.ediff1d(x), np.ediff1d(y))).tolist())\n",
    "    return distance\n",
    "\n",
    "def test_converted(x, y):\n",
    "\n",
    "    distance = [0]\n",
    "    distance.append(np.cumsum(np.hypot(np.ediff1d(x), np.ediff1d(y))).tolist())\n",
    "    return np.array(distance)\n",
    "\n",
    "def test_numpy(x, y):\n",
    "\n",
    "    distance = np.concatenate((np.zeros(1), np.cumsum(np.hypot(np.ediff1d(x), np.ediff1d(y)))))\n",
    "    return distance\n",
    "\n",
    "def test_numpy_converted(x, y):\n",
    "\n",
    "    distance = np.concatenate(([0], np.cumsum(np.hypot(np.ediff1d(x), np.ediff1d(y)))))\n",
    "    return distance\n",
    "\n",
    "t_default         = %timeit -o test(wx, wy)\n",
    "t_converted       = %timeit -o test_converted(wx, wy)\n",
    "t_numpy           = %timeit -o test_numpy(wx, wy)\n",
    "t_numpy_converted = %timeit -o test_numpy_converted(wx, wy)"
   ]
  },
  {
   "cell_type": "code",
   "execution_count": null,
   "metadata": {},
   "outputs": [
    {
     "name": "stdout",
     "output_type": "stream",
     "text": [
      "\n",
      "Default test:\n",
      "7.17 µs ± 43.9 ns per loop (mean ± std. dev. of 7 runs, 100000 loops each)\n",
      "\n",
      "Converted test:\n",
      "9.19 µs ± 40.3 ns per loop (mean ± std. dev. of 7 runs, 100000 loops each)\n",
      "\n",
      "Numpy test:\n",
      "7.83 µs ± 129 ns per loop (mean ± std. dev. of 7 runs, 100000 loops each)\n",
      "\n",
      "Numpy Converted test:\n",
      "7.9 µs ± 28 ns per loop (mean ± std. dev. of 7 runs, 100000 loops each)\n"
     ]
    }
   ],
   "source": [
    "print_bench(['default', 'converted', 'numpy', 'numpy converted'], [t_default, t_converted, t_numpy, t_numpy_converted])"
   ]
  },
  {
   "cell_type": "markdown",
   "metadata": {},
   "source": [
    "## Conclusion\n",
    "\n",
    "Do not use lists if you are required to operate on an array."
   ]
  },
  {
   "cell_type": "markdown",
   "metadata": {},
   "source": [
    "# Tuple vs List conversions"
   ]
  },
  {
   "cell_type": "code",
   "execution_count": 17,
   "metadata": {},
   "outputs": [],
   "source": [
    "%%capture\n",
    "\n",
    "wx_tuple = tuple(wx)\n",
    "wx_list  = wx.tolist()\n",
    "\n",
    "test = lambda x: np.array(x)\n",
    "\n",
    "def test_complex_tuple(x):\n",
    "\n",
    "    return np.array((0.5*(x[0] + x[2]),\n",
    "                     0.5*(x[0] + x[2])))\n",
    "\n",
    "def test_complex_list(x):\n",
    "\n",
    "    return np.array([0.5*(x[0] + x[2]),\n",
    "                     0.5*(x[0] + x[2])])\n",
    "        \n",
    "t_tuple          = %timeit -o test_list(wx_tuple)\n",
    "t_list           = %timeit -o test_tuple(wx_list)\n",
    "t_complex_tuple  = %timeit -o test_complex_tuple(wx)\n",
    "t_complex_list   = %timeit -o test_complex_list(wx)\n",
    "    "
   ]
  },
  {
   "cell_type": "code",
   "execution_count": 18,
   "metadata": {},
   "outputs": [
    {
     "name": "stdout",
     "output_type": "stream",
     "text": [
      "\n",
      "Tuple test:\n",
      "2.58 µs ± 83.5 ns per loop (mean ± std. dev. of 7 runs, 100000 loops each)\n",
      "\n",
      "List test:\n",
      "2.01 µs ± 33.6 ns per loop (mean ± std. dev. of 7 runs, 100000 loops each)\n",
      "\n",
      "Complex Tuple test:\n",
      "2.96 µs ± 33.3 ns per loop (mean ± std. dev. of 7 runs, 100000 loops each)\n",
      "\n",
      "Complex List test:\n",
      "2.9 µs ± 12.8 ns per loop (mean ± std. dev. of 7 runs, 100000 loops each)\n"
     ]
    }
   ],
   "source": [
    "print_bench(['tuple', 'list', 'complex tuple', 'complex list'], [t_tuple, t_list, t_complex_tuple, t_complex_list])"
   ]
  },
  {
   "cell_type": "markdown",
   "metadata": {},
   "source": [
    "## Conclusion\n",
    "\n",
    "Lists are faster to convert to NumPy arrays."
   ]
  }
 ],
 "metadata": {
  "interpreter": {
   "hash": "e585b5a17206fb752393266810a7bb84c4ab44148c83f69765e81e1d4e9c02d0"
  },
  "kernelspec": {
   "display_name": "Python 3.10.0 ('bench')",
   "language": "python",
   "name": "python3"
  },
  "language_info": {
   "codemirror_mode": {
    "name": "ipython",
    "version": 3
   },
   "file_extension": ".py",
   "mimetype": "text/x-python",
   "name": "python",
   "nbconvert_exporter": "python",
   "pygments_lexer": "ipython3",
   "version": "3.7.10"
  },
  "orig_nbformat": 4
 },
 "nbformat": 4,
 "nbformat_minor": 2
}
