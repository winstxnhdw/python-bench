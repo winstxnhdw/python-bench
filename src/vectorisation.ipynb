{
 "cells": [
  {
   "cell_type": "code",
   "execution_count": 11,
   "metadata": {},
   "outputs": [],
   "source": [
    "import numpy as np\n",
    "\n",
    "from math import atan2\n",
    "from pandas import read_csv\n",
    "from libs.print_bench import print_bench"
   ]
  },
  {
   "cell_type": "code",
   "execution_count": 12,
   "metadata": {},
   "outputs": [],
   "source": [
    "dir_path = 'data/waypoints.csv'\n",
    "df = read_csv(dir_path)\n",
    "wx = df['y'].values\n",
    "wy = df['x'].values"
   ]
  },
  {
   "cell_type": "code",
   "execution_count": 13,
   "metadata": {},
   "outputs": [],
   "source": [
    "def solve_1st_derivative(x, y):\n",
    "\n",
    "    dx = np.ediff1d(x)\n",
    "    dy = np.ediff1d(y)\n",
    "    dx = np.concatenate((dx, [dx[0]]))\n",
    "    dy = np.concatenate((dy, [dy[0]]))\n",
    "\n",
    "    return dx, dy"
   ]
  },
  {
   "cell_type": "code",
   "execution_count": 14,
   "metadata": {},
   "outputs": [],
   "source": [
    "%%capture\n",
    "\n",
    "def calculate_yaw(x, y):\n",
    "\n",
    "    dx, dy = solve_1st_derivative(x, y)\n",
    "\n",
    "    yaw = []\n",
    "\n",
    "    for i in range(len(x)):\n",
    "        yaw.append(atan2(dy[i], dx[i]))\n",
    "\n",
    "    return yaw\n",
    "\n",
    "def calculate_yaw_optimised(x, y):\n",
    "\n",
    "    dx, dy = solve_1st_derivative(x, y)\n",
    "    yaw = [atan2(dy[i], dx[i]) for i in range(len(x))]\n",
    "\n",
    "    return yaw\n",
    "\n",
    "def calculate_yaw_vectorised(x, y):\n",
    "\n",
    "    dx, dy = solve_1st_derivative(x, y)\n",
    "    return np.arctan2(dy, dx)\n",
    "\n",
    "t_default    = %timeit -o calculate_yaw(wx, wy)\n",
    "t_optimised  = %timeit -o calculate_yaw_optimised(wx, wy)\n",
    "t_vectorised = %timeit -o calculate_yaw_vectorised(wx, wy)"
   ]
  },
  {
   "cell_type": "code",
   "execution_count": 15,
   "metadata": {},
   "outputs": [
    {
     "name": "stdout",
     "output_type": "stream",
     "text": [
      "\n",
      "Default test:\n",
      "33.5 µs ± 1.1 µs per loop (mean ± std. dev. of 7 runs, 10000 loops each)\n",
      "\n",
      "Optimised test:\n",
      "32 µs ± 1.54 µs per loop (mean ± std. dev. of 7 runs, 10000 loops each)\n",
      "\n",
      "Vectorised test:\n",
      "8.96 µs ± 331 ns per loop (mean ± std. dev. of 7 runs, 100000 loops each)\n"
     ]
    }
   ],
   "source": [
    "print_bench(['default', 'optimised', 'vectorised'], [t_default, t_optimised, t_vectorised])"
   ]
  },
  {
   "cell_type": "markdown",
   "metadata": {},
   "source": [
    "# Conclusion\n",
    "\n",
    "NumPy's vectorisation and broadcasting is still the fastest for any operations on arrays. User should be aware of the overhead caused by the conversion from list to array."
   ]
  }
 ],
 "metadata": {
  "interpreter": {
   "hash": "e585b5a17206fb752393266810a7bb84c4ab44148c83f69765e81e1d4e9c02d0"
  },
  "kernelspec": {
   "display_name": "Python 3.10.0 ('bench')",
   "language": "python",
   "name": "python3"
  },
  "language_info": {
   "codemirror_mode": {
    "name": "ipython",
    "version": 3
   },
   "file_extension": ".py",
   "mimetype": "text/x-python",
   "name": "python",
   "nbconvert_exporter": "python",
   "pygments_lexer": "ipython3",
   "version": "3.10.0"
  },
  "orig_nbformat": 4
 },
 "nbformat": 4,
 "nbformat_minor": 2
}
