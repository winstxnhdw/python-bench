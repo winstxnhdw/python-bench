{
 "cells": [
  {
   "cell_type": "code",
   "execution_count": 1,
   "metadata": {},
   "outputs": [],
   "source": [
    "import numpy as np\n",
    "\n",
    "from pandas import read_csv\n",
    "from libs.print_bench import print_bench"
   ]
  },
  {
   "cell_type": "code",
   "execution_count": 2,
   "metadata": {},
   "outputs": [],
   "source": [
    "dir_path = 'data/waypoints.csv'\n",
    "df = read_csv(dir_path)\n",
    "wx = df['x'].values\n",
    "wy = df['y'].values"
   ]
  },
  {
   "cell_type": "code",
   "execution_count": 3,
   "metadata": {},
   "outputs": [],
   "source": [
    "def solve_1st_derivative(x, y):\n",
    "\n",
    "    dx = np.ediff1d(x)\n",
    "    dy = np.ediff1d(y)\n",
    "    dx = np.concatenate((dx, [dx[0]]))\n",
    "    dy = np.concatenate((dy, [dy[0]]))\n",
    "\n",
    "    return dx, dy"
   ]
  },
  {
   "cell_type": "code",
   "execution_count": 4,
   "metadata": {},
   "outputs": [],
   "source": [
    "%%capture\n",
    "\n",
    "def array_indices(wx, wy):\n",
    "\n",
    "    dp = solve_1st_derivative(wx, wy)\n",
    "    delta_s = np.hypot(dp[0], dp[1])\n",
    "\n",
    "    return delta_s\n",
    "\n",
    "def unpacking_tuple(wx, wy):\n",
    "\n",
    "    dp_x, dp_y = solve_1st_derivative(wx, wy)\n",
    "    delta_s = np.hypot(dp_x, dp_y)\n",
    "\n",
    "    return delta_s\n",
    "\n",
    "t_indices = %timeit -o array_indices(wx, wy)\n",
    "t_tuple   = %timeit -o unpacking_tuple(wx, wy)"
   ]
  },
  {
   "cell_type": "code",
   "execution_count": 5,
   "metadata": {},
   "outputs": [
    {
     "name": "stdout",
     "output_type": "stream",
     "text": [
      "\n",
      "Indices test:\n",
      "7.26 µs ± 203 ns per loop (mean ± std. dev. of 7 runs, 100000 loops each)\n",
      "\n",
      "Tuple test:\n",
      "6.91 µs ± 127 ns per loop (mean ± std. dev. of 7 runs, 100000 loops each)\n"
     ]
    }
   ],
   "source": [
    "print_bench(['indices', 'tuple'], [t_indices, t_tuple])"
   ]
  },
  {
   "cell_type": "markdown",
   "metadata": {},
   "source": [
    "# Conclusion\n",
    "\n",
    "Unpacking a tuple is slightly faster than accessing a array element."
   ]
  }
 ],
 "metadata": {
  "interpreter": {
   "hash": "e585b5a17206fb752393266810a7bb84c4ab44148c83f69765e81e1d4e9c02d0"
  },
  "kernelspec": {
   "display_name": "Python 3.10.0 ('bench')",
   "language": "python",
   "name": "python3"
  },
  "language_info": {
   "codemirror_mode": {
    "name": "ipython",
    "version": 3
   },
   "file_extension": ".py",
   "mimetype": "text/x-python",
   "name": "python",
   "nbconvert_exporter": "python",
   "pygments_lexer": "ipython3",
   "version": "3.10.0"
  },
  "orig_nbformat": 4
 },
 "nbformat": 4,
 "nbformat_minor": 2
}
