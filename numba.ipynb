{
 "cells": [
  {
   "cell_type": "code",
   "execution_count": 48,
   "metadata": {},
   "outputs": [],
   "source": [
    "import numpy as np\n",
    "\n",
    "from pandas import read_csv\n",
    "from numba import njit\n",
    "from scipy.spatial import cKDTree\n",
    "from scipy.spatial.distance import cdist\n",
    "from libs.print_bench import print_bench"
   ]
  },
  {
   "cell_type": "code",
   "execution_count": 49,
   "metadata": {},
   "outputs": [],
   "source": [
    "dir_path = 'data/waypoints.csv'\n",
    "df = read_csv(dir_path)\n",
    "wx = df['y'].values\n",
    "wy = df['x'].values"
   ]
  },
  {
   "cell_type": "code",
   "execution_count": 50,
   "metadata": {},
   "outputs": [],
   "source": [
    "%%capture\n",
    "\n",
    "calculate_closest_id = lambda x, y, point: np.argmin(np.hypot(point[0] - x, point[1] - y))\n",
    "calculate_closest_id_jit = njit(calculate_closest_id)\n",
    "\n",
    "input_transposed = np.array([wx, wy]).T\n",
    "target = np.array([wx[-1], wy[-1]])\n",
    "cdist_target = np.array([[wx[-1], wy[-1]]])\n",
    "\n",
    "t_numpy   = %timeit -o calculate_closest_id(wx, wy, target)\n",
    "t_numba   = %timeit -o calculate_closest_id_jit(wx, wy, target)\n",
    "t_cdist   = %timeit -o cdist(input_transposed, cdist_target).argmin()\n",
    "t_ckdtree = %timeit -o cKDTree(input_transposed).query(target, k=1, workers=-1)[1]"
   ]
  },
  {
   "cell_type": "code",
   "execution_count": 52,
   "metadata": {},
   "outputs": [
    {
     "name": "stdout",
     "output_type": "stream",
     "text": [
      "\n",
      "Numpy test:\n",
      "5.17 µs ± 326 ns per loop (mean ± std. dev. of 7 runs, 100000 loops each)\n",
      "\n",
      "Numba test:\n",
      "1.43 µs ± 32.8 ns per loop (mean ± std. dev. of 7 runs, 1000000 loops each)\n",
      "\n",
      "Cdist test:\n",
      "5.8 µs ± 90 ns per loop (mean ± std. dev. of 7 runs, 100000 loops each)\n",
      "\n",
      "Ckdtree test:\n",
      "50.9 µs ± 1.44 µs per loop (mean ± std. dev. of 7 runs, 10000 loops each)\n"
     ]
    }
   ],
   "source": [
    "print_bench(['numpy', 'numba', 'cdist', 'ckdtree'], [t_numpy, t_numba, t_cdist, t_ckdtree])"
   ]
  },
  {
   "cell_type": "markdown",
   "metadata": {},
   "source": [
    "# Conclusion\n",
    "\n",
    "Numba is really fast, but for 2D arrays, NumPy would be a lot easier to implement. cKDTree may be faster for higher dimensional arrays, but I haven't tested it."
   ]
  }
 ],
 "metadata": {
  "interpreter": {
   "hash": "e585b5a17206fb752393266810a7bb84c4ab44148c83f69765e81e1d4e9c02d0"
  },
  "kernelspec": {
   "display_name": "Python 3.10.0 ('bench')",
   "language": "python",
   "name": "python3"
  },
  "language_info": {
   "codemirror_mode": {
    "name": "ipython",
    "version": 3
   },
   "file_extension": ".py",
   "mimetype": "text/x-python",
   "name": "python",
   "nbconvert_exporter": "python",
   "pygments_lexer": "ipython3",
   "version": "3.10.0"
  },
  "orig_nbformat": 4
 },
 "nbformat": 4,
 "nbformat_minor": 2
}
